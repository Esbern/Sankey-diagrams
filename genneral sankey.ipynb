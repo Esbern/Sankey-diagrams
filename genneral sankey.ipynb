{
  "cells": [
    {
      "cell_type": "markdown",
      "metadata": {
        "id": "view-in-github",
        "colab_type": "text"
      },
      "source": [
        "<a href=\"https://colab.research.google.com/github/Esbern/Sankey-diagrams/blob/main/genneral%20sankey.ipynb\" target=\"_parent\"><img src=\"https://colab.research.google.com/assets/colab-badge.svg\" alt=\"Open In Colab\"/></a>"
      ]
    },
    {
      "cell_type": "markdown",
      "id": "bd8d965e-861f-496f-a960-04b0545e9f6e",
      "metadata": {
        "id": "bd8d965e-861f-496f-a960-04b0545e9f6e"
      },
      "source": [
        "Note before using Plotly in Jupiter lab it is necessary not only to install the Pyton libary but also the Jupiter lab extension\n",
        "for instance micromamba install -c conda-forge jupyterlab-plotly-extension"
      ]
    },
    {
      "cell_type": "code",
      "execution_count": 1,
      "id": "b07d65f4-c152-4d92-8739-0a8034a18179",
      "metadata": {
        "id": "b07d65f4-c152-4d92-8739-0a8034a18179"
      },
      "outputs": [],
      "source": [
        "import requests\n",
        "import json\n",
        "import pandas as pd\n",
        "import plotly.graph_objects as go"
      ]
    },
    {
      "cell_type": "code",
      "execution_count": 2,
      "id": "9905affd-9a0c-4f99-9110-12725019a717",
      "metadata": {
        "id": "9905affd-9a0c-4f99-9110-12725019a717"
      },
      "outputs": [],
      "source": [
        "class Table:\n",
        "    \"\"\"\n",
        "    Represents a database table and handles fetching of data from Airtable,\n",
        "    storing it in a pandas DataFrame. It manages label and relationship\n",
        "    lists with lazy loading and includes Airtable's primary key for each record.\n",
        "\n",
        "    Attributes:\n",
        "        table_id (str): Identifier for the table.\n",
        "        label_column (str): Label of the table to be used in diagrams.\n",
        "        api_key (str): API key for accessing Airtable.\n",
        "        base_id (str): Base ID of the Airtable database.\n",
        "        foreign_key_table_id (str): Identifier of the table referenced in the foreign_key_column.\n",
        "        foreign_key_column (str): Column name that acts as a foreign key to another table.\n",
        "        _data (DataFrame): Internal DataFrame containing fetched data.\n",
        "        _labels (list): List of tuples containing record IDs and labels, lazily loaded.\n",
        "        _relationships (list): List of source-target tuples based on foreign keys, lazily loaded.\n",
        "    \"\"\"\n",
        "\n",
        "    def __init__(self, table_id, label_column, api_key, base_id, foreign_key_table_id, foreign_key_column):\n",
        "        self.table_id = table_id\n",
        "        self.label_column = label_column\n",
        "        self.api_key = api_key\n",
        "        self.base_id = base_id\n",
        "        self.foreign_key_table_id = foreign_key_table_id\n",
        "        self.foreign_key_column = foreign_key_column\n",
        "        self._data = None\n",
        "        self._labels = None\n",
        "        self._relationships = None\n",
        "\n",
        "    @property\n",
        "    def data(self):\n",
        "        if self._data is None:\n",
        "            self.fetch_data()\n",
        "        return self._data\n",
        "\n",
        "    def fetch_data(self):\n",
        "        \"\"\"Fetches and populates the internal DataFrame with primary key and record fields.\"\"\"\n",
        "        url = f\"https://api.airtable.com/v0/{self.base_id}/{self.table_id}\"\n",
        "        headers = {\"Authorization\": f\"Bearer {self.api_key}\"}\n",
        "        params = {}\n",
        "        data = []\n",
        "\n",
        "        while True:\n",
        "            response = requests.get(url, headers=headers, params=params)\n",
        "            if response.status_code != 200:\n",
        "                raise Exception(f\"Failed to fetch data: {response.text}\")\n",
        "            page_data = response.json()\n",
        "            for record in page_data['records']:\n",
        "                record_data = record['fields']\n",
        "                record_data['id'] = record['id']  # Include the primary key\n",
        "                data.append(record_data)\n",
        "\n",
        "            if 'offset' in page_data:\n",
        "                params['offset'] = page_data['offset']\n",
        "            else:\n",
        "                break\n",
        "\n",
        "        self._data = pd.DataFrame(data)\n",
        "\n",
        "    @property\n",
        "    def labels(self):\n",
        "        if self._labels is None:\n",
        "            self.create_label_and_relationship_lists()\n",
        "        return self._labels\n",
        "\n",
        "    @property\n",
        "    def relationships(self):\n",
        "        if self._relationships is None:\n",
        "            self.create_label_and_relationship_lists()\n",
        "        return self._relationships\n",
        "\n",
        "    def create_label_and_relationship_lists(self):\n",
        "        \"\"\"Generates labels and source-target relationships from data.\"\"\"\n",
        "        if self._data is None:\n",
        "            self.fetch_data()\n",
        "\n",
        "        self._labels = [(self.table_id+\"_\"+ row['id'], row[self.label_column]) for index, row in self._data.iterrows()]\n",
        "        if self.foreign_key_column != \"\":\n",
        "            df_relationship = self._data.explode(self.foreign_key_column)\n",
        "            self._relationships = [(row['id'], row[self.foreign_key_column]) for index, row in df_relationship.iterrows() if self.foreign_key_column in row]\n",
        "        else:\n",
        "            self._relationships = []\n",
        "\n",
        "# Example usage (make sure the field names are correct for your Airtable setup)\n",
        "# tables = [\n",
        "#     Table(table_id=\"tblmO1yIO7iLGjeBx\", label_column=\"Name\", api_key=api_key, base_id=base_id, foreign_key_table_id=\"tblO8e0GuUpzcnCOh\", foreign_key_column=\"Phenomenon\"),\n",
        "#     Table(table_id=\"tblO8e0GuUpzcnCOh\", label_column=\"Name\", api_key=api_key, base_id=base_id, foreign_key_table_id=\"tblWUnluzfa79Y26z\", foreign_key_column=\"Variable\"),\n",
        "#     Table(table_id=\"tblWUnluzfa79Y26z\", label_column=\"Name\", api_key=api_key, base_id=base_id, foreign_key_table_id=\"\", foreign_key_column=\"\"),\n",
        "# ]\n",
        "\n"
      ]
    },
    {
      "cell_type": "code",
      "execution_count": 9,
      "id": "31f7a15e-c543-4ea0-8437-3641edfe2c49",
      "metadata": {
        "id": "31f7a15e-c543-4ea0-8437-3641edfe2c49"
      },
      "outputs": [],
      "source": [
        "api_key = 'patwjsizhgQyQkZkT.f9e8b1595df5b527d0d01d3a45af0dfa77eab63707e18398ad62f1f3818a9ce9'\n",
        "base_id = 'appLztwTKWOhFJ40Z'\n",
        "tables = [\n",
        "    Table(table_id=\"tblmO1yIO7iLGjeBx\", label_column=\"Name\", api_key=api_key, base_id=base_id, foreign_key_table_id=\"tblO8e0GuUpzcnCOh\", foreign_key_column=\"Phenomenon\"),\n",
        "    Table(table_id=\"tblO8e0GuUpzcnCOh\", label_column=\"Name\", api_key=api_key, base_id=base_id, foreign_key_table_id=\"tblWUnluzfa79Y26z\",foreign_key_column=\"Variable\"),\n",
        "    Table(table_id=\"tblWUnluzfa79Y26z\", label_column=\"Name\", api_key=api_key, base_id=base_id, foreign_key_table_id=\"\", foreign_key_column=\"\"),\n",
        "]"
      ]
    },
    {
      "cell_type": "code",
      "execution_count": 4,
      "id": "1546f922-90d7-42cb-af47-c141f9a0be5f",
      "metadata": {
        "colab": {
          "base_uri": "https://localhost:8080/"
        },
        "id": "1546f922-90d7-42cb-af47-c141f9a0be5f",
        "outputId": "d9751599-0287-440f-cfb8-0b9fa9cbc492"
      },
      "outputs": [
        {
          "output_type": "stream",
          "name": "stdout",
          "text": [
            "[('tblmO1yIO7iLGjeBx_recBAf1oiVUxNnXzI', '4 - Atmosphere (not part of geotope delineation procedures - only serves as descriptive variables)'), ('tblmO1yIO7iLGjeBx_recDCkgAVQBLEZp7g', '2 - Toposphere'), ('tblmO1yIO7iLGjeBx_recSJBcDKHrg2VJ02', '6 - Other (not part of geotope model)'), ('tblmO1yIO7iLGjeBx_recXPa6LR57R8T1EG', '5 - Biosphere (not part of geotope model)'), ('tblmO1yIO7iLGjeBx_reckbSlmzSC4yXFTu', '3 - Lithosphere'), ('tblmO1yIO7iLGjeBx_recwfNo5m4Qe2CKeh', '1 - Hydrosphere')]\n"
          ]
        }
      ],
      "source": [
        "print(tables[0].labels)\n"
      ]
    },
    {
      "cell_type": "code",
      "execution_count": 7,
      "id": "3079f390-9d9d-4a8b-a0c6-863ac5d5f18f",
      "metadata": {
        "id": "3079f390-9d9d-4a8b-a0c6-863ac5d5f18f"
      },
      "outputs": [],
      "source": [
        "def create_sankey_diagram(tables):\n",
        "    # Maps to store indices of each label in all tables\n",
        "    label_to_index = {}\n",
        "    current_index = 0\n",
        "\n",
        "    # Lists for Sankey diagram\n",
        "    node_labels = []\n",
        "    source_indices = []\n",
        "    target_indices = []\n",
        "    values = []\n",
        "\n",
        "    # First Phase: Index all labels from all tables\n",
        "    for table in tables:\n",
        "        for id_with_table, actual_label in table.labels:\n",
        "            if id_with_table not in label_to_index:\n",
        "                label_to_index[id_with_table] = current_index\n",
        "                node_labels.append(actual_label)  # Append actual label for visualization\n",
        "                current_index += 1\n",
        "\n",
        "    # Second Phase: Process relationships now that all labels are indexed\n",
        "    for table in tables:\n",
        "        for source_id, target_id in table.relationships:\n",
        "            # Create full unique IDs for source and target using the correct table IDs\n",
        "            source_full_id = f\"{table.table_id}_{source_id}\"\n",
        "            target_full_id = f\"{table.foreign_key_table_id}_{target_id}\"\n",
        "\n",
        "            if source_full_id in label_to_index and target_full_id in label_to_index:\n",
        "                source_index = label_to_index[source_full_id]\n",
        "                target_index = label_to_index[target_full_id]\n",
        "                source_indices.append(source_index)\n",
        "                target_indices.append(target_index)\n",
        "                values.append(1)  # Value can be adjusted if needed\n",
        "\n",
        "    # Create the Sankey diagram\n",
        "    fig = go.Figure(data=[go.Sankey(\n",
        "        node=dict(\n",
        "            pad=15,\n",
        "            thickness=20,\n",
        "            line=dict(color=\"black\", width=0.5),\n",
        "            label=node_labels,\n",
        "        ),\n",
        "        link=dict(\n",
        "            source=source_indices,\n",
        "            target=target_indices,\n",
        "            value=values\n",
        "        ))])\n",
        "\n",
        "    fig.update_layout(\n",
        "        font_size=10,\n",
        "        autosize=False,\n",
        "        width= 1000,\n",
        "        height=1000,\n",
        "        margin=dict(\n",
        "            l=10,\n",
        "            r=10,\n",
        "            b=10,\n",
        "            t=20,\n",
        "            pad=4\n",
        "        ),\n",
        "        title_text=\"Sankey Diagram\",\n",
        "        paper_bgcolor=\"white\"\n",
        "    )\n",
        "    fig.show()\n",
        "\n",
        "# Example usage\n",
        "# Assuming 'tables' is a list of Table instances that have already fetched data and generated labels and relationships\n",
        "# create_sankey_diagram(tables)\n"
      ]
    },
    {
      "cell_type": "code",
      "execution_count": 8,
      "id": "d08cc0d7-c6dd-4b99-b0ad-71909f1d9f97",
      "metadata": {
        "colab": {
          "base_uri": "https://localhost:8080/",
          "height": 1000
        },
        "id": "d08cc0d7-c6dd-4b99-b0ad-71909f1d9f97",
        "outputId": "e25e0616-f560-4571-91c5-450897c6ef76"
      },
      "outputs": [
        {
          "output_type": "display_data",
          "data": {
            "text/html": [
              "<html>\n",
              "<head><meta charset=\"utf-8\" /></head>\n",
              "<body>\n",
              "    <div>            <script src=\"https://cdnjs.cloudflare.com/ajax/libs/mathjax/2.7.5/MathJax.js?config=TeX-AMS-MML_SVG\"></script><script type=\"text/javascript\">if (window.MathJax && window.MathJax.Hub && window.MathJax.Hub.Config) {window.MathJax.Hub.Config({SVG: {font: \"STIX-Web\"}});}</script>                <script type=\"text/javascript\">window.PlotlyConfig = {MathJaxConfig: 'local'};</script>\n",
              "        <script charset=\"utf-8\" src=\"https://cdn.plot.ly/plotly-2.35.2.min.js\"></script>                <div id=\"9b2cfdec-5d36-4135-b71b-402dcfb261b3\" class=\"plotly-graph-div\" style=\"height:1000px; width:1000px;\"></div>            <script type=\"text/javascript\">                                    window.PLOTLYENV=window.PLOTLYENV || {};                                    if (document.getElementById(\"9b2cfdec-5d36-4135-b71b-402dcfb261b3\")) {                    Plotly.newPlot(                        \"9b2cfdec-5d36-4135-b71b-402dcfb261b3\",                        [{\"link\":{\"source\":[0,0,0,1,1,1,2,2,2,2,3,3,3,4,4,5,5,5,6,6,6,6,6,6,6,6,6,6,6,6,6,6,6,6,6,6,6,6,6,7,7,7,7,7,7,7,7,7,7,7,8,8,8,8,8,8,8,8,8,8,8,8,8,8,8,8,8,8,8,8,8,8,8,8,8,8,8,8,8,8,8,8,8,8,8,8,8,8,8,8,8,8,8,8,8,8,8,8,8,8,8,8,8,8,9,9,9,9,9,9,10,10,10,10,10,10,10,10,10,10,10,10,10,10,10,10,10,10,10,10,10,10,10,10,10,10,11,11,11,11,11,11,11,11,11,11,11,11,11,11,11,11,11,11,11,11,11,11,11,11,11,11,11,11,11,11,11,11,11,11,11,12,12,12,12,12,12,12,12,12,12,12,12,12,12,12,12,12,12,12,12,12,12,12,12,13,13,13,13,13,13,14,14,15,15,15,15,15,15,15,15,15,15,15,15,15,15,15,15,15,15,16,16,17,17,17,17,17,18,18,19,19,19,19,19,19,19,19,20,20,20,20,20,21,21,21,21,21,21,21,21,21,21,21,21,21,21,21,21,21,21,22,22,22,22,23],\"target\":[21,7,10,17,13,18,19,20,14,16,15,6,9,8,22,12,11,23,219,26,59,243,235,245,182,36,30,260,206,51,127,99,244,154,180,102,164,242,27,105,126,222,81,88,93,31,32,185,195,37,135,64,209,153,216,108,148,167,162,79,163,189,136,140,225,221,48,177,97,257,90,122,101,184,158,113,138,62,141,211,128,263,110,252,124,116,111,159,240,236,232,254,230,73,125,146,246,71,259,241,35,183,198,173,220,55,107,248,25,255,129,193,155,109,112,132,217,238,253,67,86,80,94,95,144,152,156,166,56,179,188,186,119,130,228,199,249,85,194,117,87,218,214,82,201,161,190,265,41,170,58,197,143,91,28,213,38,63,205,145,256,133,24,50,247,224,60,250,191,33,181,53,106,212,223,70,239,192,139,40,137,77,251,46,72,118,92,69,262,83,84,54,237,168,208,174,150,258,203,266,45,210,171,78,169,39,47,229,165,89,61,160,57,226,103,131,175,134,123,76,264,175,196,114,200,115,234,96,75,42,149,68,207,44,202,176,227,172,175,121,74,255,165,233,187,100,204,49,157,29,215,98,151,261,34,65,142,231,147,66,52,210,171,104,120,43],\"value\":[1,1,1,1,1,1,1,1,1,1,1,1,1,1,1,1,1,1,1,1,1,1,1,1,1,1,1,1,1,1,1,1,1,1,1,1,1,1,1,1,1,1,1,1,1,1,1,1,1,1,1,1,1,1,1,1,1,1,1,1,1,1,1,1,1,1,1,1,1,1,1,1,1,1,1,1,1,1,1,1,1,1,1,1,1,1,1,1,1,1,1,1,1,1,1,1,1,1,1,1,1,1,1,1,1,1,1,1,1,1,1,1,1,1,1,1,1,1,1,1,1,1,1,1,1,1,1,1,1,1,1,1,1,1,1,1,1,1,1,1,1,1,1,1,1,1,1,1,1,1,1,1,1,1,1,1,1,1,1,1,1,1,1,1,1,1,1,1,1,1,1,1,1,1,1,1,1,1,1,1,1,1,1,1,1,1,1,1,1,1,1,1,1,1,1,1,1,1,1,1,1,1,1,1,1,1,1,1,1,1,1,1,1,1,1,1,1,1,1,1,1,1,1,1,1,1,1,1,1,1,1,1,1,1,1,1,1,1,1,1,1,1,1,1,1,1,1,1,1,1,1,1,1,1,1,1,1,1,1,1,1,1,1,1,1,1]},\"node\":{\"label\":[\"4 - Atmosphere (not part of geotope delineation procedures - only serves as descriptive variables)\",\"2 - Toposphere\",\"6 - Other (not part of geotope model)\",\"5 - Biosphere (not part of geotope model)\",\"3 - Lithosphere\",\"1 - Hydrosphere\",\"5-2 Ecosystem characteristics\",\"4-2 Temperature\",\"3-1 Soil strata\",\"5-3 Genetic material\",\"4-3 Precipitation\",\"1-2 Ground water\",\"1-1 Surface water\",\"2-3 Terrain elevation\",\"6-3 Non-geotope land use interests\",\"5-1 Land cover & land use\",\"6-4 Masks and filters\",\"2-2 Terrain shape\",\"2-1 Terrain exposure\",\"6-2 Planning and regulation efforts\",\"6-1 Permanence of existing land use\",\"4-1 Wind\",\"3-2 Subsurface strata\",\"1-3 Sea Water\",\"Groundwater extraction watersheds (Indvindingsoplande)\",\"Valuable nature areas in forests  (naturmæssigt værdifuld skov)\",\"Danish nature indicator (index values)\",\"Geodiversity within 1000 m. radius copy\",\"Groundwater extraction watersheds (Indvindingsoplande for det primært magasin)\",\"Mean Wind Power Density 50 meters\",\"Forest type (MMU 0,5 ha.) (Copernicus high res. layer)\",\"Average temperature\",\"Average daily temperature interval\",\"Depth to groundwater aquifer (Custom run GEUS)\",\"Extreme wind days\",\"Filtered soil variable: Soil_0-30cm_Silt_mean (RUCSoil2024)\",\"NDVI (Copernicus)\",\"Length of growing season\",\"Simulated water flow speed during extraction - Sand strata 3\",\"Crop sequences 2016-2024\",\"Redox horizon depth\",\"Groundwater formation (Grundvandsdannelse) - Sand strata 4\",\"Yearly astronomical solar radiation\",\"Seawater flood exposure - depth (DHYM Havvand på land)\",\"Protected waterways (Beskyttede vandløb NBL §3)\",\"Absolute elevation over sea level (Smoothed, shape preserved DTM)\",\"UZ Soil moisture index - Yearly - Soil moisture relative til available water content AWC\",\"Land cover (worldcover sat)\",\"Soil_0-30cm_Fine_sand_mean (Soil2024)\",\"Mean Wind speed 150 meters\",\"Distance to groundwater extraction watershed (indvindingsopland)\",\"Normalized DHM (height of surface features)\",\"Wind speed 200 m. (micro scale)\",\"Flow direction (topographic flow direction)\",\"River water flood exposure 100 year event - depth (Kystdirektoratet) \",\"Vulnerability of species to land use threats (expert based estimate) (Artsscore)\",\"Precipitation per day for 50 year event\",\"Small woody features (Copernicus high res. layer)\",\"Groundwater formation (Grundvandsdannelse) - Sand strata 6\",\"River Fauna Index (DVFI_EQR)\",\"Groundwater formation to 2nd aquifer (Custom run GEUS)\",\"Dominant Leaf Type (Copernicus)\",\"Soil_100-200cm_CaCO3_mean (Soil2024)\",\"Simulated water flow speed during extraction - Sand strata 4\",\"Soil type 2019 (JB2019)\",\"Wind power density 200 m. (micro scale)\",\"Wind speed 100 m. (micro scale)\",\"Precipitation per day for 5 year event\",\"Placering af BNBOer (zoner)\",\"UZ Soil moisture index - Autumn - Soil moisture relative til available water content AWC\",\"Depth to groundwater table winter (Dybde til terrænnært grundvand vinter)\",\"Filtered soil variable: Soil_0-30cm_CaCO3_mean (RUCSoil2024)\",\"UZ Soil moisture index - Spring - Soil moisture relative til available water content AWC\",\"JB1992 - Soil type\",\"Infrastructure installations\",\"Yearly observed solar radiation\",\"Afstand til ferskvandsrecipient (Basemap4)\",\"SMDI drought index - Spring - agg. to land use classes (aggAll)\",\"Field parcels and crops (markkort)\",\"Coarse sand percentage in topsoil (DSPM06)\",\"Precipitation per day for 20 year event\",\"Highest recorded temperature\",\"Simulated water flow speed during extraction\",\"Flow distance to recipient\",\"River water flood exposure 20 year event - depth (Kystdirektoratet)\",\"Yearly average water extraction (årlig middel indvinding)\",\"Days with more than 10 mm precipitation\",\"Hydraulic contact (hydraulisk kontakt)\",\"Days with heatwave\",\"Imperviousness (Copernicus high res. layer)\",\"Soil_60-100cm_Clay_mean (Soil2024)\",\"Potential in aquifer (trykniveau og transportretning i primært magasin)\",\"Compound topographic index (CTI) (Wetness index)\",\"Yearly temperature interval\",\"Precipitation per hour for 100 year event\",\"Precipitation per day for 10 year event\",\"Slope (topographic inclination gradient)\",\"Soil_0-30cm_Kulstof_kombineret (Soil2024)\",\"Mean Wind Power Density 150 meters\",\"Condition of lakes\",\"Mean Wind speed 50 meters\",\"Soil_60-100cm_Fine_sand_mean (Soil2024)\",\"Geodiversity within 50 m. radius\",\"River edges\",\"Landforms\",\"Lowest recorded temperature\",\"Surface sink flood exposure - depth (DHYM Bluespot lavninger)\",\"Habitats (expert based estimate of location)\",\"Peat soil categories\",\"Maximum 5-day precipitation (Maksimal 5-døgnsnedbør)\",\"Soil_100-200cm_SOC_mean (Soil2024)\",\"Adhikari - Clay percentage in topsoil\",\"Precipitation per hour for 20 year event\",\"Soil_60-100cm_JB_unc (Soil2024)\",\"Topographic position index (TPI)\",\"Ruggedness (topographic index)\",\"Land parcels with soil pollution - V2 - expected pollution\",\"Vertical flow (nedadrettet strømning)\",\"UZ Soil moisture index - Summer - Soil moisture relative til available water content AWC \",\"Brutto precipitation (observeret nedbør) (stationskorrigeret af GEUS)\",\"Thickness of quartenary clay\",\"Economic value of built structures\",\"Soil_60-100cm_Coarse_sand_mean (Soil2024)\",\"Afstand til skov (Basemap4)\",\"Soil_100-200cm_JB_unc (Soil2024)\",\"JB1992 - Subsoil type\",\"Days with extreme heatwave\",\"Flow in rivers (afstrømning i vandløb)\",\"Soil_100-200cm_Fine_sand_mean (Soil2024)\",\"Net precipitation (nettonedbør)\",\"Observed weather (long term time series)\",\"Afstand til lysåben natur (Basemap4)\",\"Precipitation per hour for 50 year event\",\"Simulated water flow speed during extraction - Sand strata 1\",\"Afstand til byzone (zonekort)\",\"Silt in soil sample  (DSCM75)\",\"Flow distance to soil pollution site\",\"Groundwater-river water table elevation difference in spatial neighbourhood\",\"Soil_60-100cm_SOC_mean (Soil2024)\",\"Surface flow without extraction (afstrømning uden indvinding (potentiale))\",\"Soil_0-30cm_CaCO3_mean (Soil2024)\",\"Soil_100-200cm_Clay_mean (Soil2024)\",\"Wind power density 100 m. (micro scale)\",\"Saarbarhed for nitrat\",\"Precipitation per hour for 2 year event\",\"Simulated water flow speed during extraction - Sand strata 6\",\"JB1992 - Surface inclination\",\"Wind speed 50 m. (micro scale)\",\"Land parcels with soil pollution - V1 - confirmed pollution\",\"National priority for biological conservation (based on distribution of threatened species)\",\"Absolute elevation over sea level (DHM terrain model)\",\"Mean Wind Power Density 200 meters\",\"Extreme precipitation events yearly (Antal skybrud)\",\"Fine sand in soil sample  (DSCM75)\",\"High nature value forests (index values)\",\"Maximum daily precipitation (Maksimal døgnnedbør)\",\"Precipitation per hour for 10 year event\",\"Mean Wind speed 200 meters\",\"Soil_60-100cm_Silt_mean (Soil2024)\",\"Adhikari - Silt percentage in topsoil\",\"Grassland (Copernicus high res. layer)\",\"Groundwater formation (Grundvandsdannelse) - Sand  strata 1\",\"Silt percentage in topsoil (DSPM06)\",\"Carbon content in topsoil (DSPM06)\",\"Geodiversity within 300 m. radius\",\"Built-up (Copernicus high res. layer)\",\"Maximum 14-day precipitation (Maksimal 14-døgnsnedbør)\",\"Clay percentage in topsoil (DSPM06)\",\"Water transport from field drains to rivers (Custom run GEUS)\",\"Dominant land use (Basemap4)\",\"Groundwater formation (Grundvandsdannelse) - Sand strata 5\",\"Accessible gravel, sand and clay deposits\",\"Local priority for biological conservation (Bioscore)\",\"Fine sand percentage in topsoil (DSPM06)\",\"Local varians of elevation (topographic neighbourhood complexity)\",\"Urban Zone 2023\",\"NATURA 2000 – Habitat areas\",\"Soil_0-30cm_Silt_mean (Soil2024)\",\"Distance to x\",\"Precipitation per day for 100 year event\",\"Plant phenology index (Copernicus)\",\"Distance to groundwater well protection zone (BNBO)\",\"Leaf area index (LAI) (Copernicus)\",\"Filtered soil variable: Soil_0-30cm_Fine_sand_mean (RUCSoil2024)\",\"Soil_60-100cm_JB_mean (Soil2024)\",\"Daily maximum temperature\",\"Potential evaporation (Makkink)\",\"Mean Wind Power Density 10 meters\",\"Precipitation per hour for 5 year event\",\"Humus content in topsoil (DSPM06)\",\" Groundwater formation (Grundvandsdannelse) - Sand strata 2\",\"Groundwater formation to 4th aquifer (Custom run GEUS)\",\"SMDI drought index - Yearly - agg. to land use classes (aggAll)\",\"Average precipitation (Gennemsnitsnedbør)\",\"Share of groundwater resource in use (udnyttelse af grundvandsforekomst i procent)\",\"Days with frost\",\"Lakes of 1 ha. or larger\",\"Depth to groundwater table - maximum\",\"Filtered soil variable: Soil_0-30cm_Kulstof_kombineret (RUCSoil2024)\",\"Net precipitation (efter overfladefordampning) (Custom run GEUS)\",\"Convexity (topographic index)\",\"Groundwater formation (Grundvandsdannelse) - Chalk  strata\",\"Number of threatened species per area (antal truede arter i 10 km kvadratnet)\",\"Elevation point observations (DHM Lidar point cloud)\",\"Mean Wind speed 100 meters\",\"Simulated water flow speed during extraction - Sand strata 5\",\"Forest canopy roughness\",\"Protected nature types (Beskyttede naturtyper NBL §3)\",\"Water transport from surface flow to rivers (Custom run GEUS)\",\"Clay in soil sample (DSCM75)\",\"Accessible chalk deposits\",\"Soil_100-200cm_Coarse_sand_mean (Soil2024)\",\"Flow accumulation of surface water (topographical)\",\"Simulated water flow speed during extraction - Sand strata 2\",\"Depth to groundwater table - average\",\"Mean Wind Power Density 100 meters\",\"Coarse sand in soil sample  (DSCM75)\",\"Precipitation per day for 2 year event\",\"Baseflow\",\"Natura2000 - Conservation designations\",\"Species observations in Denmark\",\"Soil_0-30cm_Coarse_sand_mean (Soil2024)\",\"Daily minimum temperature\",\"Flow accumulation (DHYM Flow Ekstremregn)\",\"Groundwater formation to 1st (primary) aquifer (Custom run GEUS)\",\"Soil_0-30cm_Clay_mean (Soil2024)\",\"Rivers location and condition\",\"NATURA 2000 - Bird conservation areas\",\"Observed station-corrected total precipitation (Bruttonedbør)\",\"Corine Land Cover Backbone (Copernicus)\",\"Drainage depth\",\"Wind power density 50 m. (micro scale)\",\"Adhikari - Carbon content in topsoil\",\"Mean Wind speed 10 meters\",\"Aspect (topographic surface direction)\",\"High nature value farmland (index values)\",\"Adhikari - Fine sand percentage in topsoil\",\"Drainage depth under terrain level (Custom run GEUS)\",\"Days with more than 20 mm precipitation \",\"Depth to groundwater table summer (Dybde til terrænnært grundvand sommer)\",\"Adhikari - Coarse sand percentage in topsoil\",\"Filtered soil variable: Soil_0-30cm_Coarse_sand_mean (RUCSoil2024)\",\"Geodiversity within 500 m. radius copy\",\"Nature area types in potential contact with groundwater flows\",\"River and river classification\",\"Suitable habitat conditions (index based estimate) (Proxyscore)\",\"Areas with closed field drains (inferred)\",\"Groundwater formation to chalk strata  (Custom run GEUS)\",\"Species observations (in situ, standardised observations)\",\"Median transport speed to aquifers (transporttid til indvindingsmagasin)\",\"Groundwater formation to 3rd aquifer (Custom run GEUS)\",\"SMDI drought index - Summer - agg. to land use classes (aggAll)\",\"Soil_100-200cm_JB_mean (Soil2024)\",\"Dry days yearly (Antal tørre dage)\",\"Adhikari - Humus content in topsoil\",\"Old forest soils\",\"Simulated water flow speed during extraction - Chalk strata\",\"Soil_60-100cm_CaCO3_mean (Soil2024)\",\"Elevation over sea level of spatial neighbourhood\",\"Filtered soil variable: Soil_0-30cm_Clay_mean (RUCSoil2024)\",\"Tree cover density (Copernicus high res. layer)\",\"Mean wind speed (Middelvind)\",\"River water flood exposure 1000 year event - depth (Kystdirektoratet)\",\"Soil_100-200cm_Silt_mean (Soil2024)\",\"Afstand til hav(Basemap4)\",\"Groundwater formation (Grundvandsdannelse) - Sand strata 3\",\"Surface elevation including surface features over sea level (DHM surface model)\"],\"line\":{\"color\":\"black\",\"width\":0.5},\"pad\":15,\"thickness\":20},\"type\":\"sankey\"}],                        {\"template\":{\"data\":{\"histogram2dcontour\":[{\"type\":\"histogram2dcontour\",\"colorbar\":{\"outlinewidth\":0,\"ticks\":\"\"},\"colorscale\":[[0.0,\"#0d0887\"],[0.1111111111111111,\"#46039f\"],[0.2222222222222222,\"#7201a8\"],[0.3333333333333333,\"#9c179e\"],[0.4444444444444444,\"#bd3786\"],[0.5555555555555556,\"#d8576b\"],[0.6666666666666666,\"#ed7953\"],[0.7777777777777778,\"#fb9f3a\"],[0.8888888888888888,\"#fdca26\"],[1.0,\"#f0f921\"]]}],\"choropleth\":[{\"type\":\"choropleth\",\"colorbar\":{\"outlinewidth\":0,\"ticks\":\"\"}}],\"histogram2d\":[{\"type\":\"histogram2d\",\"colorbar\":{\"outlinewidth\":0,\"ticks\":\"\"},\"colorscale\":[[0.0,\"#0d0887\"],[0.1111111111111111,\"#46039f\"],[0.2222222222222222,\"#7201a8\"],[0.3333333333333333,\"#9c179e\"],[0.4444444444444444,\"#bd3786\"],[0.5555555555555556,\"#d8576b\"],[0.6666666666666666,\"#ed7953\"],[0.7777777777777778,\"#fb9f3a\"],[0.8888888888888888,\"#fdca26\"],[1.0,\"#f0f921\"]]}],\"heatmap\":[{\"type\":\"heatmap\",\"colorbar\":{\"outlinewidth\":0,\"ticks\":\"\"},\"colorscale\":[[0.0,\"#0d0887\"],[0.1111111111111111,\"#46039f\"],[0.2222222222222222,\"#7201a8\"],[0.3333333333333333,\"#9c179e\"],[0.4444444444444444,\"#bd3786\"],[0.5555555555555556,\"#d8576b\"],[0.6666666666666666,\"#ed7953\"],[0.7777777777777778,\"#fb9f3a\"],[0.8888888888888888,\"#fdca26\"],[1.0,\"#f0f921\"]]}],\"heatmapgl\":[{\"type\":\"heatmapgl\",\"colorbar\":{\"outlinewidth\":0,\"ticks\":\"\"},\"colorscale\":[[0.0,\"#0d0887\"],[0.1111111111111111,\"#46039f\"],[0.2222222222222222,\"#7201a8\"],[0.3333333333333333,\"#9c179e\"],[0.4444444444444444,\"#bd3786\"],[0.5555555555555556,\"#d8576b\"],[0.6666666666666666,\"#ed7953\"],[0.7777777777777778,\"#fb9f3a\"],[0.8888888888888888,\"#fdca26\"],[1.0,\"#f0f921\"]]}],\"contourcarpet\":[{\"type\":\"contourcarpet\",\"colorbar\":{\"outlinewidth\":0,\"ticks\":\"\"}}],\"contour\":[{\"type\":\"contour\",\"colorbar\":{\"outlinewidth\":0,\"ticks\":\"\"},\"colorscale\":[[0.0,\"#0d0887\"],[0.1111111111111111,\"#46039f\"],[0.2222222222222222,\"#7201a8\"],[0.3333333333333333,\"#9c179e\"],[0.4444444444444444,\"#bd3786\"],[0.5555555555555556,\"#d8576b\"],[0.6666666666666666,\"#ed7953\"],[0.7777777777777778,\"#fb9f3a\"],[0.8888888888888888,\"#fdca26\"],[1.0,\"#f0f921\"]]}],\"surface\":[{\"type\":\"surface\",\"colorbar\":{\"outlinewidth\":0,\"ticks\":\"\"},\"colorscale\":[[0.0,\"#0d0887\"],[0.1111111111111111,\"#46039f\"],[0.2222222222222222,\"#7201a8\"],[0.3333333333333333,\"#9c179e\"],[0.4444444444444444,\"#bd3786\"],[0.5555555555555556,\"#d8576b\"],[0.6666666666666666,\"#ed7953\"],[0.7777777777777778,\"#fb9f3a\"],[0.8888888888888888,\"#fdca26\"],[1.0,\"#f0f921\"]]}],\"mesh3d\":[{\"type\":\"mesh3d\",\"colorbar\":{\"outlinewidth\":0,\"ticks\":\"\"}}],\"scatter\":[{\"fillpattern\":{\"fillmode\":\"overlay\",\"size\":10,\"solidity\":0.2},\"type\":\"scatter\"}],\"parcoords\":[{\"type\":\"parcoords\",\"line\":{\"colorbar\":{\"outlinewidth\":0,\"ticks\":\"\"}}}],\"scatterpolargl\":[{\"type\":\"scatterpolargl\",\"marker\":{\"colorbar\":{\"outlinewidth\":0,\"ticks\":\"\"}}}],\"bar\":[{\"error_x\":{\"color\":\"#2a3f5f\"},\"error_y\":{\"color\":\"#2a3f5f\"},\"marker\":{\"line\":{\"color\":\"#E5ECF6\",\"width\":0.5},\"pattern\":{\"fillmode\":\"overlay\",\"size\":10,\"solidity\":0.2}},\"type\":\"bar\"}],\"scattergeo\":[{\"type\":\"scattergeo\",\"marker\":{\"colorbar\":{\"outlinewidth\":0,\"ticks\":\"\"}}}],\"scatterpolar\":[{\"type\":\"scatterpolar\",\"marker\":{\"colorbar\":{\"outlinewidth\":0,\"ticks\":\"\"}}}],\"histogram\":[{\"marker\":{\"pattern\":{\"fillmode\":\"overlay\",\"size\":10,\"solidity\":0.2}},\"type\":\"histogram\"}],\"scattergl\":[{\"type\":\"scattergl\",\"marker\":{\"colorbar\":{\"outlinewidth\":0,\"ticks\":\"\"}}}],\"scatter3d\":[{\"type\":\"scatter3d\",\"line\":{\"colorbar\":{\"outlinewidth\":0,\"ticks\":\"\"}},\"marker\":{\"colorbar\":{\"outlinewidth\":0,\"ticks\":\"\"}}}],\"scattermapbox\":[{\"type\":\"scattermapbox\",\"marker\":{\"colorbar\":{\"outlinewidth\":0,\"ticks\":\"\"}}}],\"scatterternary\":[{\"type\":\"scatterternary\",\"marker\":{\"colorbar\":{\"outlinewidth\":0,\"ticks\":\"\"}}}],\"scattercarpet\":[{\"type\":\"scattercarpet\",\"marker\":{\"colorbar\":{\"outlinewidth\":0,\"ticks\":\"\"}}}],\"carpet\":[{\"aaxis\":{\"endlinecolor\":\"#2a3f5f\",\"gridcolor\":\"white\",\"linecolor\":\"white\",\"minorgridcolor\":\"white\",\"startlinecolor\":\"#2a3f5f\"},\"baxis\":{\"endlinecolor\":\"#2a3f5f\",\"gridcolor\":\"white\",\"linecolor\":\"white\",\"minorgridcolor\":\"white\",\"startlinecolor\":\"#2a3f5f\"},\"type\":\"carpet\"}],\"table\":[{\"cells\":{\"fill\":{\"color\":\"#EBF0F8\"},\"line\":{\"color\":\"white\"}},\"header\":{\"fill\":{\"color\":\"#C8D4E3\"},\"line\":{\"color\":\"white\"}},\"type\":\"table\"}],\"barpolar\":[{\"marker\":{\"line\":{\"color\":\"#E5ECF6\",\"width\":0.5},\"pattern\":{\"fillmode\":\"overlay\",\"size\":10,\"solidity\":0.2}},\"type\":\"barpolar\"}],\"pie\":[{\"automargin\":true,\"type\":\"pie\"}]},\"layout\":{\"autotypenumbers\":\"strict\",\"colorway\":[\"#636efa\",\"#EF553B\",\"#00cc96\",\"#ab63fa\",\"#FFA15A\",\"#19d3f3\",\"#FF6692\",\"#B6E880\",\"#FF97FF\",\"#FECB52\"],\"font\":{\"color\":\"#2a3f5f\"},\"hovermode\":\"closest\",\"hoverlabel\":{\"align\":\"left\"},\"paper_bgcolor\":\"white\",\"plot_bgcolor\":\"#E5ECF6\",\"polar\":{\"bgcolor\":\"#E5ECF6\",\"angularaxis\":{\"gridcolor\":\"white\",\"linecolor\":\"white\",\"ticks\":\"\"},\"radialaxis\":{\"gridcolor\":\"white\",\"linecolor\":\"white\",\"ticks\":\"\"}},\"ternary\":{\"bgcolor\":\"#E5ECF6\",\"aaxis\":{\"gridcolor\":\"white\",\"linecolor\":\"white\",\"ticks\":\"\"},\"baxis\":{\"gridcolor\":\"white\",\"linecolor\":\"white\",\"ticks\":\"\"},\"caxis\":{\"gridcolor\":\"white\",\"linecolor\":\"white\",\"ticks\":\"\"}},\"coloraxis\":{\"colorbar\":{\"outlinewidth\":0,\"ticks\":\"\"}},\"colorscale\":{\"sequential\":[[0.0,\"#0d0887\"],[0.1111111111111111,\"#46039f\"],[0.2222222222222222,\"#7201a8\"],[0.3333333333333333,\"#9c179e\"],[0.4444444444444444,\"#bd3786\"],[0.5555555555555556,\"#d8576b\"],[0.6666666666666666,\"#ed7953\"],[0.7777777777777778,\"#fb9f3a\"],[0.8888888888888888,\"#fdca26\"],[1.0,\"#f0f921\"]],\"sequentialminus\":[[0.0,\"#0d0887\"],[0.1111111111111111,\"#46039f\"],[0.2222222222222222,\"#7201a8\"],[0.3333333333333333,\"#9c179e\"],[0.4444444444444444,\"#bd3786\"],[0.5555555555555556,\"#d8576b\"],[0.6666666666666666,\"#ed7953\"],[0.7777777777777778,\"#fb9f3a\"],[0.8888888888888888,\"#fdca26\"],[1.0,\"#f0f921\"]],\"diverging\":[[0,\"#8e0152\"],[0.1,\"#c51b7d\"],[0.2,\"#de77ae\"],[0.3,\"#f1b6da\"],[0.4,\"#fde0ef\"],[0.5,\"#f7f7f7\"],[0.6,\"#e6f5d0\"],[0.7,\"#b8e186\"],[0.8,\"#7fbc41\"],[0.9,\"#4d9221\"],[1,\"#276419\"]]},\"xaxis\":{\"gridcolor\":\"white\",\"linecolor\":\"white\",\"ticks\":\"\",\"title\":{\"standoff\":15},\"zerolinecolor\":\"white\",\"automargin\":true,\"zerolinewidth\":2},\"yaxis\":{\"gridcolor\":\"white\",\"linecolor\":\"white\",\"ticks\":\"\",\"title\":{\"standoff\":15},\"zerolinecolor\":\"white\",\"automargin\":true,\"zerolinewidth\":2},\"scene\":{\"xaxis\":{\"backgroundcolor\":\"#E5ECF6\",\"gridcolor\":\"white\",\"linecolor\":\"white\",\"showbackground\":true,\"ticks\":\"\",\"zerolinecolor\":\"white\",\"gridwidth\":2},\"yaxis\":{\"backgroundcolor\":\"#E5ECF6\",\"gridcolor\":\"white\",\"linecolor\":\"white\",\"showbackground\":true,\"ticks\":\"\",\"zerolinecolor\":\"white\",\"gridwidth\":2},\"zaxis\":{\"backgroundcolor\":\"#E5ECF6\",\"gridcolor\":\"white\",\"linecolor\":\"white\",\"showbackground\":true,\"ticks\":\"\",\"zerolinecolor\":\"white\",\"gridwidth\":2}},\"shapedefaults\":{\"line\":{\"color\":\"#2a3f5f\"}},\"annotationdefaults\":{\"arrowcolor\":\"#2a3f5f\",\"arrowhead\":0,\"arrowwidth\":1},\"geo\":{\"bgcolor\":\"white\",\"landcolor\":\"#E5ECF6\",\"subunitcolor\":\"white\",\"showland\":true,\"showlakes\":true,\"lakecolor\":\"white\"},\"title\":{\"x\":0.05},\"mapbox\":{\"style\":\"light\"}}},\"font\":{\"size\":10},\"margin\":{\"l\":10,\"r\":10,\"b\":10,\"t\":20,\"pad\":4},\"title\":{\"text\":\"Sankey Diagram\"},\"autosize\":false,\"width\":1000,\"height\":1000,\"paper_bgcolor\":\"white\"},                        {\"responsive\": true}                    ).then(function(){\n",
              "                            \n",
              "var gd = document.getElementById('9b2cfdec-5d36-4135-b71b-402dcfb261b3');\n",
              "var x = new MutationObserver(function (mutations, observer) {{\n",
              "        var display = window.getComputedStyle(gd).display;\n",
              "        if (!display || display === 'none') {{\n",
              "            console.log([gd, 'removed!']);\n",
              "            Plotly.purge(gd);\n",
              "            observer.disconnect();\n",
              "        }}\n",
              "}});\n",
              "\n",
              "// Listen for the removal of the full notebook cells\n",
              "var notebookContainer = gd.closest('#notebook-container');\n",
              "if (notebookContainer) {{\n",
              "    x.observe(notebookContainer, {childList: true});\n",
              "}}\n",
              "\n",
              "// Listen for the clearing of the current output cell\n",
              "var outputEl = gd.closest('.output');\n",
              "if (outputEl) {{\n",
              "    x.observe(outputEl, {childList: true});\n",
              "}}\n",
              "\n",
              "                        })                };                            </script>        </div>\n",
              "</body>\n",
              "</html>"
            ]
          },
          "metadata": {}
        }
      ],
      "source": [
        "# Example usage\n",
        "# Assuming tables is a list of Table instances that have already fetched data and generated labels and relationships\n",
        "label_to_index = {}\n",
        "node_labels = []\n",
        "source_indices = []\n",
        "target_indices = []\n",
        "values = []\n",
        "create_sankey_diagram(tables)\n",
        "\n"
      ]
    },
    {
      "cell_type": "code",
      "execution_count": null,
      "id": "4d075acc-e74a-45de-b891-566b600c61f0",
      "metadata": {
        "id": "4d075acc-e74a-45de-b891-566b600c61f0",
        "outputId": "83ad0d51-886f-49ed-b7f0-2df5f04c87ac"
      },
      "outputs": [
        {
          "data": {
            "application/vnd.plotly.v1+json": {
              "config": {
                "plotlyServerURL": "https://plot.ly"
              },
              "data": [
                {
                  "arrangement": "snap",
                  "link": {
                    "source": [
                      0,
                      0,
                      0,
                      1,
                      2,
                      3,
                      3,
                      4,
                      4,
                      5,
                      5,
                      5,
                      5,
                      6,
                      6,
                      6,
                      6,
                      6,
                      6,
                      6,
                      6,
                      6,
                      6,
                      6,
                      6,
                      6,
                      6,
                      6,
                      6,
                      7,
                      7,
                      7,
                      8,
                      8,
                      8,
                      8,
                      8,
                      8,
                      8,
                      8,
                      8,
                      8,
                      8,
                      8,
                      8,
                      8,
                      8,
                      8,
                      9,
                      9,
                      10,
                      10,
                      10,
                      10,
                      10,
                      10,
                      10,
                      10,
                      10,
                      10,
                      10,
                      10,
                      10,
                      10,
                      10,
                      10,
                      10,
                      10,
                      10,
                      10,
                      10,
                      10,
                      10,
                      11,
                      11,
                      11,
                      11,
                      11,
                      11,
                      11,
                      11,
                      11,
                      11,
                      11,
                      11,
                      11,
                      11,
                      11,
                      12,
                      12,
                      12,
                      12,
                      12,
                      12,
                      12,
                      12,
                      13,
                      13,
                      13,
                      13,
                      13,
                      13,
                      13,
                      13,
                      13,
                      13,
                      13,
                      13,
                      14,
                      14,
                      15,
                      15,
                      15,
                      15,
                      15,
                      15,
                      15,
                      15,
                      15,
                      15,
                      16,
                      16,
                      16,
                      16,
                      18
                    ],
                    "target": [
                      14,
                      16,
                      7,
                      13,
                      15,
                      12,
                      6,
                      8,
                      17,
                      9,
                      11,
                      10,
                      18,
                      126,
                      58,
                      36,
                      113,
                      20,
                      39,
                      122,
                      120,
                      124,
                      40,
                      95,
                      24,
                      129,
                      82,
                      37,
                      22,
                      52,
                      42,
                      96,
                      70,
                      41,
                      108,
                      81,
                      111,
                      59,
                      56,
                      78,
                      87,
                      84,
                      46,
                      91,
                      85,
                      63,
                      97,
                      71,
                      66,
                      72,
                      127,
                      48,
                      100,
                      62,
                      49,
                      112,
                      110,
                      47,
                      69,
                      130,
                      77,
                      68,
                      23,
                      103,
                      83,
                      98,
                      131,
                      28,
                      89,
                      38,
                      101,
                      75,
                      51,
                      123,
                      116,
                      54,
                      65,
                      125,
                      34,
                      57,
                      109,
                      115,
                      44,
                      121,
                      99,
                      64,
                      73,
                      27,
                      45,
                      88,
                      26,
                      31,
                      118,
                      86,
                      50,
                      21,
                      60,
                      93,
                      102,
                      61,
                      119,
                      53,
                      128,
                      132,
                      80,
                      105,
                      92,
                      33,
                      55,
                      74,
                      107,
                      25,
                      79,
                      43,
                      106,
                      30,
                      104,
                      94,
                      117,
                      90,
                      35,
                      76,
                      32,
                      19,
                      29
                    ],
                    "value": [
                      1,
                      1,
                      1,
                      1,
                      1,
                      1,
                      1,
                      1,
                      1,
                      1,
                      1,
                      1,
                      1,
                      1,
                      1,
                      1,
                      1,
                      1,
                      1,
                      1,
                      1,
                      1,
                      1,
                      1,
                      1,
                      1,
                      1,
                      1,
                      1,
                      1,
                      1,
                      1,
                      1,
                      1,
                      1,
                      1,
                      1,
                      1,
                      1,
                      1,
                      1,
                      1,
                      1,
                      1,
                      1,
                      1,
                      1,
                      1,
                      1,
                      1,
                      1,
                      1,
                      1,
                      1,
                      1,
                      1,
                      1,
                      1,
                      1,
                      1,
                      1,
                      1,
                      1,
                      1,
                      1,
                      1,
                      1,
                      1,
                      1,
                      1,
                      1,
                      1,
                      1,
                      1,
                      1,
                      1,
                      1,
                      1,
                      1,
                      1,
                      1,
                      1,
                      1,
                      1,
                      1,
                      1,
                      1,
                      1,
                      1,
                      1,
                      1,
                      1,
                      1,
                      1,
                      1,
                      1,
                      1,
                      1,
                      1,
                      1,
                      1,
                      1,
                      1,
                      1,
                      1,
                      1,
                      1,
                      1,
                      1,
                      1,
                      1,
                      1,
                      1,
                      1,
                      1,
                      1,
                      1,
                      1,
                      1,
                      1,
                      1,
                      1,
                      1,
                      1,
                      1
                    ]
                  },
                  "node": {
                    "label": [
                      "Atmosphere",
                      "Toposphere",
                      "Other (fx. planning data)",
                      "Biosphere",
                      "Lithosphere",
                      "Hydrosphere",
                      "4-2 Ecosystems",
                      "1-3 Temperature",
                      "3-1 Soils",
                      "2-1 Precip and Evap",
                      "2-3 Ground water",
                      "2-2 Surface water",
                      "4-1 Land use",
                      "3-2 Topography",
                      "1-1 Radiation",
                      "Other",
                      "1-2 Wind",
                      "3-3 Mineral strata",
                      "2-4 Sea Water",
                      "Prevailing wind direction",
                      "DNI",
                      "Indvindingsoplande i det primært magasin",
                      "Forest type (MMU 0,5 ha.) (Copernicus high res. layer)",
                      "Horisontalt flow",
                      "NDVI (Copernicus)",
                      "bredde på BNBO område",
                      "Afgrødeforløb 2016-2023",
                      "Redoxforhold dybde",
                      "Grundvandsdannelse - Sand 4",
                      "DHYM Havvand på land",
                      "Beskyttet vandløb (NBL §3)",
                      "Arealdække (worldcover sat)",
                      "Wind energy at 100 m.",
                      "Normalized DHM (height of surface features)",
                      "Strømningsretning på topografisk overflade (topografisk flow direction)",
                      "Wind exposure (index)",
                      "Artsscore",
                      "Small woody features (Copernicus high res. layer)",
                      "Grundvandsdannelse - Sand 6",
                      "DVFI_EQR",
                      "Dominant Leaf Type (Copernicus)",
                      "Jordtype",
                      "Cold days",
                      "Placering af BNBOer (zoner)",
                      "Dybde til terrænnært grundvand vinter",
                      "Marker",
                      "Coarse sand percentage in topsoil (surface)",
                      "Simuleret vandhastighed ved indvinding",
                      "Årlig middel indvinding",
                      "Hydraulisk kontakt",
                      "Imperviousness (Copernicus high res. layer)",
                      "Potentialekort (trykniveau i primært magasin)",
                      "Mean temperature",
                      "Slope",
                      "Søer",
                      "Mean radiation",
                      "Landscape element types",
                      "DHYM Bluespot",
                      "levesteder",
                      "Tørv",
                      "Topographical position index (TPI)",
                      "Ruggedness index (topographical)",
                      "Nedadrettet strømning",
                      "What yield (bonitet for hvede)",
                      "Potential evaporation",
                      "Afstrømning i vandløb",
                      "Nettonedbør",
                      "Jordens geotekniske parametre",
                      "Grundvandsdannelse til primært magasin / øvre magasiner",
                      "Strømnings-retning til øverste magasin",
                      "S1 Silt i prøve",
                      "Flow distance to soil pollution site",
                      "Accumulated precipitation",
                      "Afstrømning uden indvinding (potentiale)",
                      "Bright Sunshine",
                      "Saarbarhed for nitrat",
                      "Wind energy at surface level",
                      "Dybde af primært magasin",
                      "Adresse med jordforurening",
                      "National prioritering",
                      "Digital terrain model (DHM terrain)",
                      "S1 Finsand i prøve",
                      "Grassland(Copernicus high res. layer)",
                      "Grundvandsdannelse - Sand 1",
                      "Silt percentage in topsoil (surface)",
                      "Carbon content in topsoil (surface)",
                      "Built-up (Copernicus high res. layer)",
                      "Clay percentage in topsoil (surface)",
                      "Arealanvendelse (basemap)",
                      "Grundvandsdannelse - Sand 5",
                      "Lokal prioritering (Bioscore)",
                      "Fine sand percentage in topsoil (surface)",
                      "Landform genesis",
                      "Lokal varians af elevation (topografisk kompleksitet)",
                      "NATURA 2000 – Habitatområder",
                      "Leaf area index (LAI) (Copernicus)",
                      "Soil temperature",
                      "Humus content in topsoil (surface)",
                      "Grundvandsdannelse - Sand 2",
                      "Drought index",
                      "Udnyttelse af grundvandsforekomst i procent",
                      "Dybde til grundvandsspejl - Maximal",
                      "Konveksitet (topografisk)",
                      "Grundvandsdannelse - Kalk",
                      "Antal truede arter i 10 km kvadratnet",
                      "Elevation point observations",
                      "Beskyttet naturtyper (NBL §3)",
                      "Længde af BNBO område",
                      "S1 Ler i prøve",
                      "Flow accumulation of surface water (topographical)",
                      "Dybde til grundvandsspejl - gennemsnitlig",
                      "S1 Grovsand i prøve",
                      "Baseflow",
                      "Natura2000",
                      "Svampe og mikroliv balance.",
                      "DHYM Flow Ekstremregn",
                      "Vandløb",
                      "NATURA 2000 - Fuglebeskyttelse",
                      "Corine Land Cover Backbone (Copernicus)",
                      "Aspect (topographical surface direction)",
                      "Områder med høj naturværdi (HNV indeks)",
                      "Dybde til terrænnært grundvand sommer",
                      "Naturnavn",
                      "Vandløbs type",
                      "Gode levesteder (Proxyscore)",
                      "Dræn",
                      "Arts-observationer",
                      "Median transporthastighed ",
                      "Elevation over sea level of spatial neighbourhood",
                      "Tree cover density (Copernicus high res. layer)",
                      "Strømnings-hastighed til øverste magasin",
                      "Grundvandsdannelse - Sand 3",
                      "Digital Surface model (DHM overflade)"
                    ],
                    "pad": 10
                  },
                  "type": "sankey"
                }
              ],
              "layout": {
                "autosize": true,
                "template": {
                  "data": {
                    "bar": [
                      {
                        "error_x": {
                          "color": "#2a3f5f"
                        },
                        "error_y": {
                          "color": "#2a3f5f"
                        },
                        "marker": {
                          "line": {
                            "color": "#E5ECF6",
                            "width": 0.5
                          },
                          "pattern": {
                            "fillmode": "overlay",
                            "size": 10,
                            "solidity": 0.2
                          }
                        },
                        "type": "bar"
                      }
                    ],
                    "barpolar": [
                      {
                        "marker": {
                          "line": {
                            "color": "#E5ECF6",
                            "width": 0.5
                          },
                          "pattern": {
                            "fillmode": "overlay",
                            "size": 10,
                            "solidity": 0.2
                          }
                        },
                        "type": "barpolar"
                      }
                    ],
                    "carpet": [
                      {
                        "aaxis": {
                          "endlinecolor": "#2a3f5f",
                          "gridcolor": "white",
                          "linecolor": "white",
                          "minorgridcolor": "white",
                          "startlinecolor": "#2a3f5f"
                        },
                        "baxis": {
                          "endlinecolor": "#2a3f5f",
                          "gridcolor": "white",
                          "linecolor": "white",
                          "minorgridcolor": "white",
                          "startlinecolor": "#2a3f5f"
                        },
                        "type": "carpet"
                      }
                    ],
                    "choropleth": [
                      {
                        "colorbar": {
                          "outlinewidth": 0,
                          "ticks": ""
                        },
                        "type": "choropleth"
                      }
                    ],
                    "contour": [
                      {
                        "colorbar": {
                          "outlinewidth": 0,
                          "ticks": ""
                        },
                        "colorscale": [
                          [
                            0,
                            "#0d0887"
                          ],
                          [
                            0.1111111111111111,
                            "#46039f"
                          ],
                          [
                            0.2222222222222222,
                            "#7201a8"
                          ],
                          [
                            0.3333333333333333,
                            "#9c179e"
                          ],
                          [
                            0.4444444444444444,
                            "#bd3786"
                          ],
                          [
                            0.5555555555555556,
                            "#d8576b"
                          ],
                          [
                            0.6666666666666666,
                            "#ed7953"
                          ],
                          [
                            0.7777777777777778,
                            "#fb9f3a"
                          ],
                          [
                            0.8888888888888888,
                            "#fdca26"
                          ],
                          [
                            1,
                            "#f0f921"
                          ]
                        ],
                        "type": "contour"
                      }
                    ],
                    "contourcarpet": [
                      {
                        "colorbar": {
                          "outlinewidth": 0,
                          "ticks": ""
                        },
                        "type": "contourcarpet"
                      }
                    ],
                    "heatmap": [
                      {
                        "colorbar": {
                          "outlinewidth": 0,
                          "ticks": ""
                        },
                        "colorscale": [
                          [
                            0,
                            "#0d0887"
                          ],
                          [
                            0.1111111111111111,
                            "#46039f"
                          ],
                          [
                            0.2222222222222222,
                            "#7201a8"
                          ],
                          [
                            0.3333333333333333,
                            "#9c179e"
                          ],
                          [
                            0.4444444444444444,
                            "#bd3786"
                          ],
                          [
                            0.5555555555555556,
                            "#d8576b"
                          ],
                          [
                            0.6666666666666666,
                            "#ed7953"
                          ],
                          [
                            0.7777777777777778,
                            "#fb9f3a"
                          ],
                          [
                            0.8888888888888888,
                            "#fdca26"
                          ],
                          [
                            1,
                            "#f0f921"
                          ]
                        ],
                        "type": "heatmap"
                      }
                    ],
                    "heatmapgl": [
                      {
                        "colorbar": {
                          "outlinewidth": 0,
                          "ticks": ""
                        },
                        "colorscale": [
                          [
                            0,
                            "#0d0887"
                          ],
                          [
                            0.1111111111111111,
                            "#46039f"
                          ],
                          [
                            0.2222222222222222,
                            "#7201a8"
                          ],
                          [
                            0.3333333333333333,
                            "#9c179e"
                          ],
                          [
                            0.4444444444444444,
                            "#bd3786"
                          ],
                          [
                            0.5555555555555556,
                            "#d8576b"
                          ],
                          [
                            0.6666666666666666,
                            "#ed7953"
                          ],
                          [
                            0.7777777777777778,
                            "#fb9f3a"
                          ],
                          [
                            0.8888888888888888,
                            "#fdca26"
                          ],
                          [
                            1,
                            "#f0f921"
                          ]
                        ],
                        "type": "heatmapgl"
                      }
                    ],
                    "histogram": [
                      {
                        "marker": {
                          "pattern": {
                            "fillmode": "overlay",
                            "size": 10,
                            "solidity": 0.2
                          }
                        },
                        "type": "histogram"
                      }
                    ],
                    "histogram2d": [
                      {
                        "colorbar": {
                          "outlinewidth": 0,
                          "ticks": ""
                        },
                        "colorscale": [
                          [
                            0,
                            "#0d0887"
                          ],
                          [
                            0.1111111111111111,
                            "#46039f"
                          ],
                          [
                            0.2222222222222222,
                            "#7201a8"
                          ],
                          [
                            0.3333333333333333,
                            "#9c179e"
                          ],
                          [
                            0.4444444444444444,
                            "#bd3786"
                          ],
                          [
                            0.5555555555555556,
                            "#d8576b"
                          ],
                          [
                            0.6666666666666666,
                            "#ed7953"
                          ],
                          [
                            0.7777777777777778,
                            "#fb9f3a"
                          ],
                          [
                            0.8888888888888888,
                            "#fdca26"
                          ],
                          [
                            1,
                            "#f0f921"
                          ]
                        ],
                        "type": "histogram2d"
                      }
                    ],
                    "histogram2dcontour": [
                      {
                        "colorbar": {
                          "outlinewidth": 0,
                          "ticks": ""
                        },
                        "colorscale": [
                          [
                            0,
                            "#0d0887"
                          ],
                          [
                            0.1111111111111111,
                            "#46039f"
                          ],
                          [
                            0.2222222222222222,
                            "#7201a8"
                          ],
                          [
                            0.3333333333333333,
                            "#9c179e"
                          ],
                          [
                            0.4444444444444444,
                            "#bd3786"
                          ],
                          [
                            0.5555555555555556,
                            "#d8576b"
                          ],
                          [
                            0.6666666666666666,
                            "#ed7953"
                          ],
                          [
                            0.7777777777777778,
                            "#fb9f3a"
                          ],
                          [
                            0.8888888888888888,
                            "#fdca26"
                          ],
                          [
                            1,
                            "#f0f921"
                          ]
                        ],
                        "type": "histogram2dcontour"
                      }
                    ],
                    "mesh3d": [
                      {
                        "colorbar": {
                          "outlinewidth": 0,
                          "ticks": ""
                        },
                        "type": "mesh3d"
                      }
                    ],
                    "parcoords": [
                      {
                        "line": {
                          "colorbar": {
                            "outlinewidth": 0,
                            "ticks": ""
                          }
                        },
                        "type": "parcoords"
                      }
                    ],
                    "pie": [
                      {
                        "automargin": true,
                        "type": "pie"
                      }
                    ],
                    "scatter": [
                      {
                        "fillpattern": {
                          "fillmode": "overlay",
                          "size": 10,
                          "solidity": 0.2
                        },
                        "type": "scatter"
                      }
                    ],
                    "scatter3d": [
                      {
                        "line": {
                          "colorbar": {
                            "outlinewidth": 0,
                            "ticks": ""
                          }
                        },
                        "marker": {
                          "colorbar": {
                            "outlinewidth": 0,
                            "ticks": ""
                          }
                        },
                        "type": "scatter3d"
                      }
                    ],
                    "scattercarpet": [
                      {
                        "marker": {
                          "colorbar": {
                            "outlinewidth": 0,
                            "ticks": ""
                          }
                        },
                        "type": "scattercarpet"
                      }
                    ],
                    "scattergeo": [
                      {
                        "marker": {
                          "colorbar": {
                            "outlinewidth": 0,
                            "ticks": ""
                          }
                        },
                        "type": "scattergeo"
                      }
                    ],
                    "scattergl": [
                      {
                        "marker": {
                          "colorbar": {
                            "outlinewidth": 0,
                            "ticks": ""
                          }
                        },
                        "type": "scattergl"
                      }
                    ],
                    "scattermapbox": [
                      {
                        "marker": {
                          "colorbar": {
                            "outlinewidth": 0,
                            "ticks": ""
                          }
                        },
                        "type": "scattermapbox"
                      }
                    ],
                    "scatterpolar": [
                      {
                        "marker": {
                          "colorbar": {
                            "outlinewidth": 0,
                            "ticks": ""
                          }
                        },
                        "type": "scatterpolar"
                      }
                    ],
                    "scatterpolargl": [
                      {
                        "marker": {
                          "colorbar": {
                            "outlinewidth": 0,
                            "ticks": ""
                          }
                        },
                        "type": "scatterpolargl"
                      }
                    ],
                    "scatterternary": [
                      {
                        "marker": {
                          "colorbar": {
                            "outlinewidth": 0,
                            "ticks": ""
                          }
                        },
                        "type": "scatterternary"
                      }
                    ],
                    "surface": [
                      {
                        "colorbar": {
                          "outlinewidth": 0,
                          "ticks": ""
                        },
                        "colorscale": [
                          [
                            0,
                            "#0d0887"
                          ],
                          [
                            0.1111111111111111,
                            "#46039f"
                          ],
                          [
                            0.2222222222222222,
                            "#7201a8"
                          ],
                          [
                            0.3333333333333333,
                            "#9c179e"
                          ],
                          [
                            0.4444444444444444,
                            "#bd3786"
                          ],
                          [
                            0.5555555555555556,
                            "#d8576b"
                          ],
                          [
                            0.6666666666666666,
                            "#ed7953"
                          ],
                          [
                            0.7777777777777778,
                            "#fb9f3a"
                          ],
                          [
                            0.8888888888888888,
                            "#fdca26"
                          ],
                          [
                            1,
                            "#f0f921"
                          ]
                        ],
                        "type": "surface"
                      }
                    ],
                    "table": [
                      {
                        "cells": {
                          "fill": {
                            "color": "#EBF0F8"
                          },
                          "line": {
                            "color": "white"
                          }
                        },
                        "header": {
                          "fill": {
                            "color": "#C8D4E3"
                          },
                          "line": {
                            "color": "white"
                          }
                        },
                        "type": "table"
                      }
                    ]
                  },
                  "layout": {
                    "annotationdefaults": {
                      "arrowcolor": "#2a3f5f",
                      "arrowhead": 0,
                      "arrowwidth": 1
                    },
                    "autotypenumbers": "strict",
                    "coloraxis": {
                      "colorbar": {
                        "outlinewidth": 0,
                        "ticks": ""
                      }
                    },
                    "colorscale": {
                      "diverging": [
                        [
                          0,
                          "#8e0152"
                        ],
                        [
                          0.1,
                          "#c51b7d"
                        ],
                        [
                          0.2,
                          "#de77ae"
                        ],
                        [
                          0.3,
                          "#f1b6da"
                        ],
                        [
                          0.4,
                          "#fde0ef"
                        ],
                        [
                          0.5,
                          "#f7f7f7"
                        ],
                        [
                          0.6,
                          "#e6f5d0"
                        ],
                        [
                          0.7,
                          "#b8e186"
                        ],
                        [
                          0.8,
                          "#7fbc41"
                        ],
                        [
                          0.9,
                          "#4d9221"
                        ],
                        [
                          1,
                          "#276419"
                        ]
                      ],
                      "sequential": [
                        [
                          0,
                          "#0d0887"
                        ],
                        [
                          0.1111111111111111,
                          "#46039f"
                        ],
                        [
                          0.2222222222222222,
                          "#7201a8"
                        ],
                        [
                          0.3333333333333333,
                          "#9c179e"
                        ],
                        [
                          0.4444444444444444,
                          "#bd3786"
                        ],
                        [
                          0.5555555555555556,
                          "#d8576b"
                        ],
                        [
                          0.6666666666666666,
                          "#ed7953"
                        ],
                        [
                          0.7777777777777778,
                          "#fb9f3a"
                        ],
                        [
                          0.8888888888888888,
                          "#fdca26"
                        ],
                        [
                          1,
                          "#f0f921"
                        ]
                      ],
                      "sequentialminus": [
                        [
                          0,
                          "#0d0887"
                        ],
                        [
                          0.1111111111111111,
                          "#46039f"
                        ],
                        [
                          0.2222222222222222,
                          "#7201a8"
                        ],
                        [
                          0.3333333333333333,
                          "#9c179e"
                        ],
                        [
                          0.4444444444444444,
                          "#bd3786"
                        ],
                        [
                          0.5555555555555556,
                          "#d8576b"
                        ],
                        [
                          0.6666666666666666,
                          "#ed7953"
                        ],
                        [
                          0.7777777777777778,
                          "#fb9f3a"
                        ],
                        [
                          0.8888888888888888,
                          "#fdca26"
                        ],
                        [
                          1,
                          "#f0f921"
                        ]
                      ]
                    },
                    "colorway": [
                      "#636efa",
                      "#EF553B",
                      "#00cc96",
                      "#ab63fa",
                      "#FFA15A",
                      "#19d3f3",
                      "#FF6692",
                      "#B6E880",
                      "#FF97FF",
                      "#FECB52"
                    ],
                    "font": {
                      "color": "#2a3f5f"
                    },
                    "geo": {
                      "bgcolor": "white",
                      "lakecolor": "white",
                      "landcolor": "#E5ECF6",
                      "showlakes": true,
                      "showland": true,
                      "subunitcolor": "white"
                    },
                    "hoverlabel": {
                      "align": "left"
                    },
                    "hovermode": "closest",
                    "mapbox": {
                      "style": "light"
                    },
                    "paper_bgcolor": "white",
                    "plot_bgcolor": "#E5ECF6",
                    "polar": {
                      "angularaxis": {
                        "gridcolor": "white",
                        "linecolor": "white",
                        "ticks": ""
                      },
                      "bgcolor": "#E5ECF6",
                      "radialaxis": {
                        "gridcolor": "white",
                        "linecolor": "white",
                        "ticks": ""
                      }
                    },
                    "scene": {
                      "xaxis": {
                        "backgroundcolor": "#E5ECF6",
                        "gridcolor": "white",
                        "gridwidth": 2,
                        "linecolor": "white",
                        "showbackground": true,
                        "ticks": "",
                        "zerolinecolor": "white"
                      },
                      "yaxis": {
                        "backgroundcolor": "#E5ECF6",
                        "gridcolor": "white",
                        "gridwidth": 2,
                        "linecolor": "white",
                        "showbackground": true,
                        "ticks": "",
                        "zerolinecolor": "white"
                      },
                      "zaxis": {
                        "backgroundcolor": "#E5ECF6",
                        "gridcolor": "white",
                        "gridwidth": 2,
                        "linecolor": "white",
                        "showbackground": true,
                        "ticks": "",
                        "zerolinecolor": "white"
                      }
                    },
                    "shapedefaults": {
                      "line": {
                        "color": "#2a3f5f"
                      }
                    },
                    "ternary": {
                      "aaxis": {
                        "gridcolor": "white",
                        "linecolor": "white",
                        "ticks": ""
                      },
                      "baxis": {
                        "gridcolor": "white",
                        "linecolor": "white",
                        "ticks": ""
                      },
                      "bgcolor": "#E5ECF6",
                      "caxis": {
                        "gridcolor": "white",
                        "linecolor": "white",
                        "ticks": ""
                      }
                    },
                    "title": {
                      "x": 0.05
                    },
                    "xaxis": {
                      "automargin": true,
                      "gridcolor": "white",
                      "linecolor": "white",
                      "ticks": "",
                      "title": {
                        "standoff": 15
                      },
                      "zerolinecolor": "white",
                      "zerolinewidth": 2
                    },
                    "yaxis": {
                      "automargin": true,
                      "gridcolor": "white",
                      "linecolor": "white",
                      "ticks": "",
                      "title": {
                        "standoff": 15
                      },
                      "zerolinecolor": "white",
                      "zerolinewidth": 2
                    }
                  }
                }
              }
            },
            "image/png": "[encoded data removed]",
            "text/html": [
              "<div>                            <div id=\"e9faea5e-864c-4a1a-ba18-bb879228a9e1\" class=\"plotly-graph-div\" style=\"height:525px; width:100%;\"></div>            <script type=\"text/javascript\">                require([\"plotly\"], function(Plotly) {                    window.PLOTLYENV=window.PLOTLYENV || {};                                    if (document.getElementById(\"e9faea5e-864c-4a1a-ba18-bb879228a9e1\")) {                    Plotly.newPlot(                        \"e9faea5e-864c-4a1a-ba18-bb879228a9e1\",                        [{\"arrangement\":\"snap\",\"link\":{\"source\":[0,0,0,1,2,3,3,4,4,5,5,5,5,6,6,6,6,6,6,6,6,6,6,6,6,6,6,6,6,7,7,7,8,8,8,8,8,8,8,8,8,8,8,8,8,8,8,8,9,9,10,10,10,10,10,10,10,10,10,10,10,10,10,10,10,10,10,10,10,10,10,10,10,11,11,11,11,11,11,11,11,11,11,11,11,11,11,11,12,12,12,12,12,12,12,12,13,13,13,13,13,13,13,13,13,13,13,13,14,14,15,15,15,15,15,15,15,15,15,15,16,16,16,16,18],\"target\":[14,16,7,13,15,12,6,8,17,9,11,10,18,126,58,36,113,20,39,122,120,124,40,95,24,129,82,37,22,52,42,96,70,41,108,81,111,59,56,78,87,84,46,91,85,63,97,71,66,72,127,48,100,62,49,112,110,47,69,130,77,68,23,103,83,98,131,28,89,38,101,75,51,123,116,54,65,125,34,57,109,115,44,121,99,64,73,27,45,88,26,31,118,86,50,21,60,93,102,61,119,53,128,132,80,105,92,33,55,74,107,25,79,43,106,30,104,94,117,90,35,76,32,19,29],\"value\":[1,1,1,1,1,1,1,1,1,1,1,1,1,1,1,1,1,1,1,1,1,1,1,1,1,1,1,1,1,1,1,1,1,1,1,1,1,1,1,1,1,1,1,1,1,1,1,1,1,1,1,1,1,1,1,1,1,1,1,1,1,1,1,1,1,1,1,1,1,1,1,1,1,1,1,1,1,1,1,1,1,1,1,1,1,1,1,1,1,1,1,1,1,1,1,1,1,1,1,1,1,1,1,1,1,1,1,1,1,1,1,1,1,1,1,1,1,1,1,1,1,1,1,1,1]},\"node\":{\"label\":[\"Atmosphere\",\"Toposphere\",\"Other (fx. planning data)\",\"Biosphere\",\"Lithosphere\",\"Hydrosphere\",\"4-2 Ecosystems\",\"1-3 Temperature\",\"3-1 Soils\",\"2-1 Precip and Evap\",\"2-3 Ground water\",\"2-2 Surface water\",\"4-1 Land use\",\"3-2 Topography\",\"1-1 Radiation\",\"Other\",\"1-2 Wind\",\"3-3 Mineral strata\",\"2-4 Sea Water\",\"Prevailing wind direction\",\"DNI\",\"Indvindingsoplande i det prim\\u00e6rt magasin\",\"Forest type (MMU 0,5 ha.) (Copernicus high res. layer)\",\"Horisontalt flow\",\"NDVI (Copernicus)\",\"bredde p\\u00e5 BNBO omr\\u00e5de\",\"Afgr\\u00f8deforl\\u00f8b 2016-2023\",\"Redoxforhold dybde\",\"Grundvandsdannelse - Sand 4\",\"DHYM Havvand p\\u00e5 land\",\"Beskyttet vandl\\u00f8b (NBL \\u00a73)\",\"Areald\\u00e6kke (worldcover sat)\",\"Wind energy at 100 m.\",\"Normalized DHM (height of surface features)\",\"Str\\u00f8mningsretning p\\u00e5 topografisk overflade (topografisk flow direction)\",\"Wind exposure (index)\",\"Artsscore\",\"Small woody features (Copernicus high res. layer)\",\"Grundvandsdannelse - Sand 6\",\"DVFI_EQR\",\"Dominant Leaf Type (Copernicus)\",\"Jordtype\",\"Cold days\",\"Placering af BNBOer (zoner)\",\"Dybde til terr\\u00e6nn\\u00e6rt grundvand vinter\",\"Marker\",\"Coarse sand percentage in topsoil (surface)\",\"Simuleret vandhastighed ved indvinding\",\"\\u00c5rlig middel indvinding\",\"Hydraulisk kontakt\",\"Imperviousness (Copernicus high res. layer)\",\"Potentialekort (trykniveau i prim\\u00e6rt magasin)\",\"Mean temperature\",\"Slope\",\"S\\u00f8er\",\"Mean radiation\",\"Landscape element types\",\"DHYM Bluespot\",\"levesteder\",\"T\\u00f8rv\",\"Topographical position index (TPI)\",\"Ruggedness index (topographical)\",\"Nedadrettet str\\u00f8mning\",\"What yield (bonitet for hvede)\",\"Potential evaporation\",\"Afstr\\u00f8mning i vandl\\u00f8b\",\"Nettonedb\\u00f8r\",\"Jordens geotekniske parametre\",\"Grundvandsdannelse til prim\\u00e6rt magasin \\u002f \\u00f8vre magasiner\",\"Str\\u00f8mnings-retning til \\u00f8verste magasin\",\"S1 Silt i pr\\u00f8ve\",\"Flow distance to soil pollution site\",\"Accumulated precipitation\",\"Afstr\\u00f8mning uden indvinding (potentiale)\",\"Bright Sunshine\",\"Saarbarhed for nitrat\",\"Wind energy at surface level\",\"Dybde af prim\\u00e6rt magasin\",\"Adresse med jordforurening\",\"National prioritering\",\"Digital terrain model (DHM terrain)\",\"S1 Finsand i pr\\u00f8ve\",\"Grassland(Copernicus high res. layer)\",\"Grundvandsdannelse - Sand 1\",\"Silt percentage in topsoil (surface)\",\"Carbon content in topsoil (surface)\",\"Built-up (Copernicus high res. layer)\",\"Clay percentage in topsoil (surface)\",\"Arealanvendelse (basemap)\",\"Grundvandsdannelse - Sand 5\",\"Lokal prioritering (Bioscore)\",\"Fine sand percentage in topsoil (surface)\",\"Landform genesis\",\"Lokal varians af elevation (topografisk kompleksitet)\",\"NATURA 2000 \\u2013 Habitatomr\\u00e5der\",\"Leaf area index (LAI) (Copernicus)\",\"Soil temperature\",\"Humus content in topsoil (surface)\",\"Grundvandsdannelse - Sand 2\",\"Drought index\",\"Udnyttelse af grundvandsforekomst i procent\",\"Dybde til grundvandsspejl - Maximal\",\"Konveksitet (topografisk)\",\"Grundvandsdannelse - Kalk\",\"Antal truede arter i 10 km kvadratnet\",\"Elevation point observations\",\"Beskyttet naturtyper (NBL \\u00a73)\",\"L\\u00e6ngde af BNBO omr\\u00e5de\",\"S1 Ler i pr\\u00f8ve\",\"Flow accumulation of surface water (topographical)\",\"Dybde til grundvandsspejl - gennemsnitlig\",\"S1 Grovsand i pr\\u00f8ve\",\"Baseflow\",\"Natura2000\",\"Svampe og mikroliv balance.\",\"DHYM Flow Ekstremregn\",\"Vandl\\u00f8b\",\"NATURA 2000 - Fuglebeskyttelse\",\"Corine Land Cover Backbone (Copernicus)\",\"Aspect (topographical surface direction)\",\"Omr\\u00e5der med h\\u00f8j naturv\\u00e6rdi (HNV indeks)\",\"Dybde til terr\\u00e6nn\\u00e6rt grundvand sommer\",\"Naturnavn\",\"Vandl\\u00f8bs type\",\"Gode levesteder (Proxyscore)\",\"Dr\\u00e6n\",\"Arts-observationer\",\"Median transporthastighed \",\"Elevation over sea level of spatial neighbourhood\",\"Tree cover density (Copernicus high res. layer)\",\"Str\\u00f8mnings-hastighed til \\u00f8verste magasin\",\"Grundvandsdannelse - Sand 3\",\"Digital Surface model (DHM overflade)\"],\"pad\":10},\"type\":\"sankey\"}],                        {\"template\":{\"data\":{\"histogram2dcontour\":[{\"type\":\"histogram2dcontour\",\"colorbar\":{\"outlinewidth\":0,\"ticks\":\"\"},\"colorscale\":[[0.0,\"#0d0887\"],[0.1111111111111111,\"#46039f\"],[0.2222222222222222,\"#7201a8\"],[0.3333333333333333,\"#9c179e\"],[0.4444444444444444,\"#bd3786\"],[0.5555555555555556,\"#d8576b\"],[0.6666666666666666,\"#ed7953\"],[0.7777777777777778,\"#fb9f3a\"],[0.8888888888888888,\"#fdca26\"],[1.0,\"#f0f921\"]]}],\"choropleth\":[{\"type\":\"choropleth\",\"colorbar\":{\"outlinewidth\":0,\"ticks\":\"\"}}],\"histogram2d\":[{\"type\":\"histogram2d\",\"colorbar\":{\"outlinewidth\":0,\"ticks\":\"\"},\"colorscale\":[[0.0,\"#0d0887\"],[0.1111111111111111,\"#46039f\"],[0.2222222222222222,\"#7201a8\"],[0.3333333333333333,\"#9c179e\"],[0.4444444444444444,\"#bd3786\"],[0.5555555555555556,\"#d8576b\"],[0.6666666666666666,\"#ed7953\"],[0.7777777777777778,\"#fb9f3a\"],[0.8888888888888888,\"#fdca26\"],[1.0,\"#f0f921\"]]}],\"heatmap\":[{\"type\":\"heatmap\",\"colorbar\":{\"outlinewidth\":0,\"ticks\":\"\"},\"colorscale\":[[0.0,\"#0d0887\"],[0.1111111111111111,\"#46039f\"],[0.2222222222222222,\"#7201a8\"],[0.3333333333333333,\"#9c179e\"],[0.4444444444444444,\"#bd3786\"],[0.5555555555555556,\"#d8576b\"],[0.6666666666666666,\"#ed7953\"],[0.7777777777777778,\"#fb9f3a\"],[0.8888888888888888,\"#fdca26\"],[1.0,\"#f0f921\"]]}],\"heatmapgl\":[{\"type\":\"heatmapgl\",\"colorbar\":{\"outlinewidth\":0,\"ticks\":\"\"},\"colorscale\":[[0.0,\"#0d0887\"],[0.1111111111111111,\"#46039f\"],[0.2222222222222222,\"#7201a8\"],[0.3333333333333333,\"#9c179e\"],[0.4444444444444444,\"#bd3786\"],[0.5555555555555556,\"#d8576b\"],[0.6666666666666666,\"#ed7953\"],[0.7777777777777778,\"#fb9f3a\"],[0.8888888888888888,\"#fdca26\"],[1.0,\"#f0f921\"]]}],\"contourcarpet\":[{\"type\":\"contourcarpet\",\"colorbar\":{\"outlinewidth\":0,\"ticks\":\"\"}}],\"contour\":[{\"type\":\"contour\",\"colorbar\":{\"outlinewidth\":0,\"ticks\":\"\"},\"colorscale\":[[0.0,\"#0d0887\"],[0.1111111111111111,\"#46039f\"],[0.2222222222222222,\"#7201a8\"],[0.3333333333333333,\"#9c179e\"],[0.4444444444444444,\"#bd3786\"],[0.5555555555555556,\"#d8576b\"],[0.6666666666666666,\"#ed7953\"],[0.7777777777777778,\"#fb9f3a\"],[0.8888888888888888,\"#fdca26\"],[1.0,\"#f0f921\"]]}],\"surface\":[{\"type\":\"surface\",\"colorbar\":{\"outlinewidth\":0,\"ticks\":\"\"},\"colorscale\":[[0.0,\"#0d0887\"],[0.1111111111111111,\"#46039f\"],[0.2222222222222222,\"#7201a8\"],[0.3333333333333333,\"#9c179e\"],[0.4444444444444444,\"#bd3786\"],[0.5555555555555556,\"#d8576b\"],[0.6666666666666666,\"#ed7953\"],[0.7777777777777778,\"#fb9f3a\"],[0.8888888888888888,\"#fdca26\"],[1.0,\"#f0f921\"]]}],\"mesh3d\":[{\"type\":\"mesh3d\",\"colorbar\":{\"outlinewidth\":0,\"ticks\":\"\"}}],\"scatter\":[{\"fillpattern\":{\"fillmode\":\"overlay\",\"size\":10,\"solidity\":0.2},\"type\":\"scatter\"}],\"parcoords\":[{\"type\":\"parcoords\",\"line\":{\"colorbar\":{\"outlinewidth\":0,\"ticks\":\"\"}}}],\"scatterpolargl\":[{\"type\":\"scatterpolargl\",\"marker\":{\"colorbar\":{\"outlinewidth\":0,\"ticks\":\"\"}}}],\"bar\":[{\"error_x\":{\"color\":\"#2a3f5f\"},\"error_y\":{\"color\":\"#2a3f5f\"},\"marker\":{\"line\":{\"color\":\"#E5ECF6\",\"width\":0.5},\"pattern\":{\"fillmode\":\"overlay\",\"size\":10,\"solidity\":0.2}},\"type\":\"bar\"}],\"scattergeo\":[{\"type\":\"scattergeo\",\"marker\":{\"colorbar\":{\"outlinewidth\":0,\"ticks\":\"\"}}}],\"scatterpolar\":[{\"type\":\"scatterpolar\",\"marker\":{\"colorbar\":{\"outlinewidth\":0,\"ticks\":\"\"}}}],\"histogram\":[{\"marker\":{\"pattern\":{\"fillmode\":\"overlay\",\"size\":10,\"solidity\":0.2}},\"type\":\"histogram\"}],\"scattergl\":[{\"type\":\"scattergl\",\"marker\":{\"colorbar\":{\"outlinewidth\":0,\"ticks\":\"\"}}}],\"scatter3d\":[{\"type\":\"scatter3d\",\"line\":{\"colorbar\":{\"outlinewidth\":0,\"ticks\":\"\"}},\"marker\":{\"colorbar\":{\"outlinewidth\":0,\"ticks\":\"\"}}}],\"scattermapbox\":[{\"type\":\"scattermapbox\",\"marker\":{\"colorbar\":{\"outlinewidth\":0,\"ticks\":\"\"}}}],\"scatterternary\":[{\"type\":\"scatterternary\",\"marker\":{\"colorbar\":{\"outlinewidth\":0,\"ticks\":\"\"}}}],\"scattercarpet\":[{\"type\":\"scattercarpet\",\"marker\":{\"colorbar\":{\"outlinewidth\":0,\"ticks\":\"\"}}}],\"carpet\":[{\"aaxis\":{\"endlinecolor\":\"#2a3f5f\",\"gridcolor\":\"white\",\"linecolor\":\"white\",\"minorgridcolor\":\"white\",\"startlinecolor\":\"#2a3f5f\"},\"baxis\":{\"endlinecolor\":\"#2a3f5f\",\"gridcolor\":\"white\",\"linecolor\":\"white\",\"minorgridcolor\":\"white\",\"startlinecolor\":\"#2a3f5f\"},\"type\":\"carpet\"}],\"table\":[{\"cells\":{\"fill\":{\"color\":\"#EBF0F8\"},\"line\":{\"color\":\"white\"}},\"header\":{\"fill\":{\"color\":\"#C8D4E3\"},\"line\":{\"color\":\"white\"}},\"type\":\"table\"}],\"barpolar\":[{\"marker\":{\"line\":{\"color\":\"#E5ECF6\",\"width\":0.5},\"pattern\":{\"fillmode\":\"overlay\",\"size\":10,\"solidity\":0.2}},\"type\":\"barpolar\"}],\"pie\":[{\"automargin\":true,\"type\":\"pie\"}]},\"layout\":{\"autotypenumbers\":\"strict\",\"colorway\":[\"#636efa\",\"#EF553B\",\"#00cc96\",\"#ab63fa\",\"#FFA15A\",\"#19d3f3\",\"#FF6692\",\"#B6E880\",\"#FF97FF\",\"#FECB52\"],\"font\":{\"color\":\"#2a3f5f\"},\"hovermode\":\"closest\",\"hoverlabel\":{\"align\":\"left\"},\"paper_bgcolor\":\"white\",\"plot_bgcolor\":\"#E5ECF6\",\"polar\":{\"bgcolor\":\"#E5ECF6\",\"angularaxis\":{\"gridcolor\":\"white\",\"linecolor\":\"white\",\"ticks\":\"\"},\"radialaxis\":{\"gridcolor\":\"white\",\"linecolor\":\"white\",\"ticks\":\"\"}},\"ternary\":{\"bgcolor\":\"#E5ECF6\",\"aaxis\":{\"gridcolor\":\"white\",\"linecolor\":\"white\",\"ticks\":\"\"},\"baxis\":{\"gridcolor\":\"white\",\"linecolor\":\"white\",\"ticks\":\"\"},\"caxis\":{\"gridcolor\":\"white\",\"linecolor\":\"white\",\"ticks\":\"\"}},\"coloraxis\":{\"colorbar\":{\"outlinewidth\":0,\"ticks\":\"\"}},\"colorscale\":{\"sequential\":[[0.0,\"#0d0887\"],[0.1111111111111111,\"#46039f\"],[0.2222222222222222,\"#7201a8\"],[0.3333333333333333,\"#9c179e\"],[0.4444444444444444,\"#bd3786\"],[0.5555555555555556,\"#d8576b\"],[0.6666666666666666,\"#ed7953\"],[0.7777777777777778,\"#fb9f3a\"],[0.8888888888888888,\"#fdca26\"],[1.0,\"#f0f921\"]],\"sequentialminus\":[[0.0,\"#0d0887\"],[0.1111111111111111,\"#46039f\"],[0.2222222222222222,\"#7201a8\"],[0.3333333333333333,\"#9c179e\"],[0.4444444444444444,\"#bd3786\"],[0.5555555555555556,\"#d8576b\"],[0.6666666666666666,\"#ed7953\"],[0.7777777777777778,\"#fb9f3a\"],[0.8888888888888888,\"#fdca26\"],[1.0,\"#f0f921\"]],\"diverging\":[[0,\"#8e0152\"],[0.1,\"#c51b7d\"],[0.2,\"#de77ae\"],[0.3,\"#f1b6da\"],[0.4,\"#fde0ef\"],[0.5,\"#f7f7f7\"],[0.6,\"#e6f5d0\"],[0.7,\"#b8e186\"],[0.8,\"#7fbc41\"],[0.9,\"#4d9221\"],[1,\"#276419\"]]},\"xaxis\":{\"gridcolor\":\"white\",\"linecolor\":\"white\",\"ticks\":\"\",\"title\":{\"standoff\":15},\"zerolinecolor\":\"white\",\"automargin\":true,\"zerolinewidth\":2},\"yaxis\":{\"gridcolor\":\"white\",\"linecolor\":\"white\",\"ticks\":\"\",\"title\":{\"standoff\":15},\"zerolinecolor\":\"white\",\"automargin\":true,\"zerolinewidth\":2},\"scene\":{\"xaxis\":{\"backgroundcolor\":\"#E5ECF6\",\"gridcolor\":\"white\",\"linecolor\":\"white\",\"showbackground\":true,\"ticks\":\"\",\"zerolinecolor\":\"white\",\"gridwidth\":2},\"yaxis\":{\"backgroundcolor\":\"#E5ECF6\",\"gridcolor\":\"white\",\"linecolor\":\"white\",\"showbackground\":true,\"ticks\":\"\",\"zerolinecolor\":\"white\",\"gridwidth\":2},\"zaxis\":{\"backgroundcolor\":\"#E5ECF6\",\"gridcolor\":\"white\",\"linecolor\":\"white\",\"showbackground\":true,\"ticks\":\"\",\"zerolinecolor\":\"white\",\"gridwidth\":2}},\"shapedefaults\":{\"line\":{\"color\":\"#2a3f5f\"}},\"annotationdefaults\":{\"arrowcolor\":\"#2a3f5f\",\"arrowhead\":0,\"arrowwidth\":1},\"geo\":{\"bgcolor\":\"white\",\"landcolor\":\"#E5ECF6\",\"subunitcolor\":\"white\",\"showland\":true,\"showlakes\":true,\"lakecolor\":\"white\"},\"title\":{\"x\":0.05},\"mapbox\":{\"style\":\"light\"}}}},                        {\"responsive\": true}                    ).then(function(){\n",
              "                            \n",
              "var gd = document.getElementById('e9faea5e-864c-4a1a-ba18-bb879228a9e1');\n",
              "var x = new MutationObserver(function (mutations, observer) {{\n",
              "        var display = window.getComputedStyle(gd).display;\n",
              "        if (!display || display === 'none') {{\n",
              "            console.log([gd, 'removed!']);\n",
              "            Plotly.purge(gd);\n",
              "            observer.disconnect();\n",
              "        }}\n",
              "}});\n",
              "\n",
              "// Listen for the removal of the full notebook cells\n",
              "var notebookContainer = gd.closest('#notebook-container');\n",
              "if (notebookContainer) {{\n",
              "    x.observe(notebookContainer, {childList: true});\n",
              "}}\n",
              "\n",
              "// Listen for the clearing of the current output cell\n",
              "var outputEl = gd.closest('.output');\n",
              "if (outputEl) {{\n",
              "    x.observe(outputEl, {childList: true});\n",
              "}}\n",
              "\n",
              "                        })                };                });            </script>        </div>"
            ]
          },
          "metadata": {},
          "output_type": "display_data"
        }
      ],
      "source": [
        "fig = go.Figure(go.Sankey(\n",
        "    arrangement = \"snap\",\n",
        "    node = {\n",
        "        \"label\": node_labels,\n",
        "\n",
        "        'pad':10},  # 10 Pixels\n",
        "    link = {\n",
        "        \"source\": source_indices,\n",
        "        \"target\": target_indices,\n",
        "        \"value\": values}))\n",
        "\n",
        "fig.show()"
      ]
    },
    {
      "cell_type": "code",
      "execution_count": null,
      "id": "653adaed-1dad-43ca-8032-6dbc51f38c28",
      "metadata": {
        "id": "653adaed-1dad-43ca-8032-6dbc51f38c28",
        "outputId": "169830c6-8416-4f34-b10d-3dd748c64b65"
      },
      "outputs": [
        {
          "data": {
            "text/plain": [
              "[14,\n",
              " 16,\n",
              " 7,\n",
              " 13,\n",
              " 15,\n",
              " 12,\n",
              " 6,\n",
              " 8,\n",
              " 17,\n",
              " 9,\n",
              " 11,\n",
              " 10,\n",
              " 18,\n",
              " 126,\n",
              " 58,\n",
              " 36,\n",
              " 113,\n",
              " 20,\n",
              " 39,\n",
              " 122,\n",
              " 120,\n",
              " 124,\n",
              " 40,\n",
              " 95,\n",
              " 24,\n",
              " 129,\n",
              " 82,\n",
              " 37,\n",
              " 22,\n",
              " 52,\n",
              " 42,\n",
              " 96,\n",
              " 70,\n",
              " 41,\n",
              " 108,\n",
              " 81,\n",
              " 111,\n",
              " 59,\n",
              " 56,\n",
              " 78,\n",
              " 87,\n",
              " 84,\n",
              " 46,\n",
              " 91,\n",
              " 85,\n",
              " 63,\n",
              " 97,\n",
              " 71,\n",
              " 66,\n",
              " 72,\n",
              " 127,\n",
              " 48,\n",
              " 100,\n",
              " 62,\n",
              " 49,\n",
              " 112,\n",
              " 110,\n",
              " 47,\n",
              " 69,\n",
              " 130,\n",
              " 77,\n",
              " 68,\n",
              " 23,\n",
              " 103,\n",
              " 83,\n",
              " 98,\n",
              " 131,\n",
              " 28,\n",
              " 89,\n",
              " 38,\n",
              " 101,\n",
              " 75,\n",
              " 51,\n",
              " 123,\n",
              " 116,\n",
              " 54,\n",
              " 65,\n",
              " 125,\n",
              " 34,\n",
              " 57,\n",
              " 109,\n",
              " 115,\n",
              " 44,\n",
              " 121,\n",
              " 99,\n",
              " 64,\n",
              " 73,\n",
              " 27,\n",
              " 45,\n",
              " 88,\n",
              " 26,\n",
              " 31,\n",
              " 118,\n",
              " 86,\n",
              " 50,\n",
              " 21,\n",
              " 60,\n",
              " 93,\n",
              " 102,\n",
              " 61,\n",
              " 119,\n",
              " 53,\n",
              " 128,\n",
              " 132,\n",
              " 80,\n",
              " 105,\n",
              " 92,\n",
              " 33,\n",
              " 55,\n",
              " 74,\n",
              " 107,\n",
              " 25,\n",
              " 79,\n",
              " 43,\n",
              " 106,\n",
              " 30,\n",
              " 104,\n",
              " 94,\n",
              " 117,\n",
              " 90,\n",
              " 35,\n",
              " 76,\n",
              " 32,\n",
              " 19,\n",
              " 29]"
            ]
          },
          "execution_count": 137,
          "metadata": {},
          "output_type": "execute_result"
        }
      ],
      "source": [
        "target_indices"
      ]
    },
    {
      "cell_type": "code",
      "execution_count": null,
      "id": "6763f492-26ea-4979-b215-be2ab527165a",
      "metadata": {
        "id": "6763f492-26ea-4979-b215-be2ab527165a",
        "outputId": "d8442441-c6a1-47a8-d29a-45cac5978342"
      },
      "outputs": [
        {
          "data": {
            "text/plain": [
              "['Atmosphere',\n",
              " 'Toposphere',\n",
              " 'Other (fx. planning data)',\n",
              " 'Biosphere',\n",
              " 'Lithosphere',\n",
              " 'Hydrosphere',\n",
              " '4-2 Ecosystems',\n",
              " '1-3 Temperature',\n",
              " '3-1 Soils',\n",
              " '2-1 Precip and Evap',\n",
              " '2-3 Ground water',\n",
              " '2-2 Surface water',\n",
              " '4-1 Land use',\n",
              " '3-2 Topography',\n",
              " '1-1 Radiation',\n",
              " 'Other',\n",
              " '1-2 Wind',\n",
              " '3-3 Mineral strata',\n",
              " '2-4 Sea Water',\n",
              " 'Prevailing wind direction',\n",
              " 'DNI',\n",
              " 'Indvindingsoplande i det primært magasin',\n",
              " 'Forest type (MMU 0,5 ha.) (Copernicus high res. layer)',\n",
              " 'Horisontalt flow',\n",
              " 'NDVI (Copernicus)',\n",
              " 'bredde på BNBO område',\n",
              " 'Afgrødeforløb 2016-2023',\n",
              " 'Redoxforhold dybde',\n",
              " 'Grundvandsdannelse - Sand 4',\n",
              " 'DHYM Havvand på land',\n",
              " 'Beskyttet vandløb (NBL §3)',\n",
              " 'Arealdække (worldcover sat)',\n",
              " 'Wind energy at 100 m.',\n",
              " 'Normalized DHM (height of surface features)',\n",
              " 'Strømningsretning på topografisk overflade (topografisk flow direction)',\n",
              " 'Wind exposure (index)',\n",
              " 'Artsscore',\n",
              " 'Small woody features (Copernicus high res. layer)',\n",
              " 'Grundvandsdannelse - Sand 6',\n",
              " 'DVFI_EQR',\n",
              " 'Dominant Leaf Type (Copernicus)',\n",
              " 'Jordtype',\n",
              " 'Cold days',\n",
              " 'Placering af BNBOer (zoner)',\n",
              " 'Dybde til terrænnært grundvand vinter',\n",
              " 'Marker',\n",
              " 'Coarse sand percentage in topsoil (surface)',\n",
              " 'Simuleret vandhastighed ved indvinding',\n",
              " 'Årlig middel indvinding',\n",
              " 'Hydraulisk kontakt',\n",
              " 'Imperviousness (Copernicus high res. layer)',\n",
              " 'Potentialekort (trykniveau i primært magasin)',\n",
              " 'Mean temperature',\n",
              " 'Slope',\n",
              " 'Søer',\n",
              " 'Mean radiation',\n",
              " 'Landscape element types',\n",
              " 'DHYM Bluespot',\n",
              " 'levesteder',\n",
              " 'Tørv',\n",
              " 'Topographical position index (TPI)',\n",
              " 'Ruggedness index (topographical)',\n",
              " 'Nedadrettet strømning',\n",
              " 'What yield (bonitet for hvede)',\n",
              " 'Potential evaporation',\n",
              " 'Afstrømning i vandløb',\n",
              " 'Nettonedbør',\n",
              " 'Jordens geotekniske parametre',\n",
              " 'Grundvandsdannelse til primært magasin / øvre magasiner',\n",
              " 'Strømnings-retning til øverste magasin',\n",
              " 'S1 Silt i prøve',\n",
              " 'Flow distance to soil pollution site',\n",
              " 'Accumulated precipitation',\n",
              " 'Afstrømning uden indvinding (potentiale)',\n",
              " 'Bright Sunshine',\n",
              " 'Saarbarhed for nitrat',\n",
              " 'Wind energy at surface level',\n",
              " 'Dybde af primært magasin',\n",
              " 'Adresse med jordforurening',\n",
              " 'National prioritering',\n",
              " 'Digital terrain model (DHM terrain)',\n",
              " 'S1 Finsand i prøve',\n",
              " 'Grassland(Copernicus high res. layer)',\n",
              " 'Grundvandsdannelse - Sand 1',\n",
              " 'Silt percentage in topsoil (surface)',\n",
              " 'Carbon content in topsoil (surface)',\n",
              " 'Built-up (Copernicus high res. layer)',\n",
              " 'Clay percentage in topsoil (surface)',\n",
              " 'Arealanvendelse (basemap)',\n",
              " 'Grundvandsdannelse - Sand 5',\n",
              " 'Lokal prioritering (Bioscore)',\n",
              " 'Fine sand percentage in topsoil (surface)',\n",
              " 'Landform genesis',\n",
              " 'Lokal varians af elevation (topografisk kompleksitet)',\n",
              " 'NATURA 2000 – Habitatområder',\n",
              " 'Leaf area index (LAI) (Copernicus)',\n",
              " 'Soil temperature',\n",
              " 'Humus content in topsoil (surface)',\n",
              " 'Grundvandsdannelse - Sand 2',\n",
              " 'Drought index',\n",
              " 'Udnyttelse af grundvandsforekomst i procent',\n",
              " 'Dybde til grundvandsspejl - Maximal',\n",
              " 'Konveksitet (topografisk)',\n",
              " 'Grundvandsdannelse - Kalk',\n",
              " 'Antal truede arter i 10 km kvadratnet',\n",
              " 'Elevation point observations',\n",
              " 'Beskyttet naturtyper (NBL §3)',\n",
              " 'Længde af BNBO område',\n",
              " 'S1 Ler i prøve',\n",
              " 'Flow accumulation of surface water (topographical)',\n",
              " 'Dybde til grundvandsspejl - gennemsnitlig',\n",
              " 'S1 Grovsand i prøve',\n",
              " 'Baseflow',\n",
              " 'Natura2000',\n",
              " 'Svampe og mikroliv balance.',\n",
              " 'DHYM Flow Ekstremregn',\n",
              " 'Vandløb',\n",
              " 'NATURA 2000 - Fuglebeskyttelse',\n",
              " 'Corine Land Cover Backbone (Copernicus)',\n",
              " 'Aspect (topographical surface direction)',\n",
              " 'Områder med høj naturværdi (HNV indeks)',\n",
              " 'Dybde til terrænnært grundvand sommer',\n",
              " 'Naturnavn',\n",
              " 'Vandløbs type',\n",
              " 'Gode levesteder (Proxyscore)',\n",
              " 'Dræn',\n",
              " 'Arts-observationer',\n",
              " 'Median transporthastighed ',\n",
              " 'Elevation over sea level of spatial neighbourhood',\n",
              " 'Tree cover density (Copernicus high res. layer)',\n",
              " 'Strømnings-hastighed til øverste magasin',\n",
              " 'Grundvandsdannelse - Sand 3',\n",
              " 'Digital Surface model (DHM overflade)']"
            ]
          },
          "execution_count": 135,
          "metadata": {},
          "output_type": "execute_result"
        }
      ],
      "source": [
        "node_labels"
      ]
    },
    {
      "cell_type": "code",
      "execution_count": null,
      "id": "d21c7e4d-96b0-448e-8da5-ba2955bfe0e6",
      "metadata": {
        "id": "d21c7e4d-96b0-448e-8da5-ba2955bfe0e6",
        "outputId": "4b702986-e6db-407c-cbc5-de681d43f88d"
      },
      "outputs": [
        {
          "data": {
            "application/vnd.plotly.v1+json": {
              "config": {
                "plotlyServerURL": "https://plot.ly"
              },
              "data": [
                {
                  "arrangement": "snap",
                  "link": {
                    "source": [
                      0,
                      0,
                      1,
                      2,
                      5,
                      4,
                      3,
                      5
                    ],
                    "target": [
                      5,
                      3,
                      4,
                      3,
                      0,
                      2,
                      2,
                      3
                    ],
                    "value": [
                      1,
                      2,
                      1,
                      1,
                      1,
                      1,
                      1,
                      2
                    ]
                  },
                  "node": {
                    "label": [
                      "A",
                      "B",
                      "C",
                      "D",
                      "E",
                      "F"
                    ],
                    "pad": 10,
                    "x": [
                      0.2,
                      0.1,
                      0.5,
                      0.7,
                      0.3,
                      0.5
                    ],
                    "y": [
                      0.7,
                      0.5,
                      0.2,
                      0.4,
                      0.2,
                      0.4605220094910817
                    ]
                  },
                  "type": "sankey"
                }
              ],
              "layout": {
                "autosize": true,
                "template": {
                  "data": {
                    "bar": [
                      {
                        "error_x": {
                          "color": "#2a3f5f"
                        },
                        "error_y": {
                          "color": "#2a3f5f"
                        },
                        "marker": {
                          "line": {
                            "color": "#E5ECF6",
                            "width": 0.5
                          },
                          "pattern": {
                            "fillmode": "overlay",
                            "size": 10,
                            "solidity": 0.2
                          }
                        },
                        "type": "bar"
                      }
                    ],
                    "barpolar": [
                      {
                        "marker": {
                          "line": {
                            "color": "#E5ECF6",
                            "width": 0.5
                          },
                          "pattern": {
                            "fillmode": "overlay",
                            "size": 10,
                            "solidity": 0.2
                          }
                        },
                        "type": "barpolar"
                      }
                    ],
                    "carpet": [
                      {
                        "aaxis": {
                          "endlinecolor": "#2a3f5f",
                          "gridcolor": "white",
                          "linecolor": "white",
                          "minorgridcolor": "white",
                          "startlinecolor": "#2a3f5f"
                        },
                        "baxis": {
                          "endlinecolor": "#2a3f5f",
                          "gridcolor": "white",
                          "linecolor": "white",
                          "minorgridcolor": "white",
                          "startlinecolor": "#2a3f5f"
                        },
                        "type": "carpet"
                      }
                    ],
                    "choropleth": [
                      {
                        "colorbar": {
                          "outlinewidth": 0,
                          "ticks": ""
                        },
                        "type": "choropleth"
                      }
                    ],
                    "contour": [
                      {
                        "colorbar": {
                          "outlinewidth": 0,
                          "ticks": ""
                        },
                        "colorscale": [
                          [
                            0,
                            "#0d0887"
                          ],
                          [
                            0.1111111111111111,
                            "#46039f"
                          ],
                          [
                            0.2222222222222222,
                            "#7201a8"
                          ],
                          [
                            0.3333333333333333,
                            "#9c179e"
                          ],
                          [
                            0.4444444444444444,
                            "#bd3786"
                          ],
                          [
                            0.5555555555555556,
                            "#d8576b"
                          ],
                          [
                            0.6666666666666666,
                            "#ed7953"
                          ],
                          [
                            0.7777777777777778,
                            "#fb9f3a"
                          ],
                          [
                            0.8888888888888888,
                            "#fdca26"
                          ],
                          [
                            1,
                            "#f0f921"
                          ]
                        ],
                        "type": "contour"
                      }
                    ],
                    "contourcarpet": [
                      {
                        "colorbar": {
                          "outlinewidth": 0,
                          "ticks": ""
                        },
                        "type": "contourcarpet"
                      }
                    ],
                    "heatmap": [
                      {
                        "colorbar": {
                          "outlinewidth": 0,
                          "ticks": ""
                        },
                        "colorscale": [
                          [
                            0,
                            "#0d0887"
                          ],
                          [
                            0.1111111111111111,
                            "#46039f"
                          ],
                          [
                            0.2222222222222222,
                            "#7201a8"
                          ],
                          [
                            0.3333333333333333,
                            "#9c179e"
                          ],
                          [
                            0.4444444444444444,
                            "#bd3786"
                          ],
                          [
                            0.5555555555555556,
                            "#d8576b"
                          ],
                          [
                            0.6666666666666666,
                            "#ed7953"
                          ],
                          [
                            0.7777777777777778,
                            "#fb9f3a"
                          ],
                          [
                            0.8888888888888888,
                            "#fdca26"
                          ],
                          [
                            1,
                            "#f0f921"
                          ]
                        ],
                        "type": "heatmap"
                      }
                    ],
                    "heatmapgl": [
                      {
                        "colorbar": {
                          "outlinewidth": 0,
                          "ticks": ""
                        },
                        "colorscale": [
                          [
                            0,
                            "#0d0887"
                          ],
                          [
                            0.1111111111111111,
                            "#46039f"
                          ],
                          [
                            0.2222222222222222,
                            "#7201a8"
                          ],
                          [
                            0.3333333333333333,
                            "#9c179e"
                          ],
                          [
                            0.4444444444444444,
                            "#bd3786"
                          ],
                          [
                            0.5555555555555556,
                            "#d8576b"
                          ],
                          [
                            0.6666666666666666,
                            "#ed7953"
                          ],
                          [
                            0.7777777777777778,
                            "#fb9f3a"
                          ],
                          [
                            0.8888888888888888,
                            "#fdca26"
                          ],
                          [
                            1,
                            "#f0f921"
                          ]
                        ],
                        "type": "heatmapgl"
                      }
                    ],
                    "histogram": [
                      {
                        "marker": {
                          "pattern": {
                            "fillmode": "overlay",
                            "size": 10,
                            "solidity": 0.2
                          }
                        },
                        "type": "histogram"
                      }
                    ],
                    "histogram2d": [
                      {
                        "colorbar": {
                          "outlinewidth": 0,
                          "ticks": ""
                        },
                        "colorscale": [
                          [
                            0,
                            "#0d0887"
                          ],
                          [
                            0.1111111111111111,
                            "#46039f"
                          ],
                          [
                            0.2222222222222222,
                            "#7201a8"
                          ],
                          [
                            0.3333333333333333,
                            "#9c179e"
                          ],
                          [
                            0.4444444444444444,
                            "#bd3786"
                          ],
                          [
                            0.5555555555555556,
                            "#d8576b"
                          ],
                          [
                            0.6666666666666666,
                            "#ed7953"
                          ],
                          [
                            0.7777777777777778,
                            "#fb9f3a"
                          ],
                          [
                            0.8888888888888888,
                            "#fdca26"
                          ],
                          [
                            1,
                            "#f0f921"
                          ]
                        ],
                        "type": "histogram2d"
                      }
                    ],
                    "histogram2dcontour": [
                      {
                        "colorbar": {
                          "outlinewidth": 0,
                          "ticks": ""
                        },
                        "colorscale": [
                          [
                            0,
                            "#0d0887"
                          ],
                          [
                            0.1111111111111111,
                            "#46039f"
                          ],
                          [
                            0.2222222222222222,
                            "#7201a8"
                          ],
                          [
                            0.3333333333333333,
                            "#9c179e"
                          ],
                          [
                            0.4444444444444444,
                            "#bd3786"
                          ],
                          [
                            0.5555555555555556,
                            "#d8576b"
                          ],
                          [
                            0.6666666666666666,
                            "#ed7953"
                          ],
                          [
                            0.7777777777777778,
                            "#fb9f3a"
                          ],
                          [
                            0.8888888888888888,
                            "#fdca26"
                          ],
                          [
                            1,
                            "#f0f921"
                          ]
                        ],
                        "type": "histogram2dcontour"
                      }
                    ],
                    "mesh3d": [
                      {
                        "colorbar": {
                          "outlinewidth": 0,
                          "ticks": ""
                        },
                        "type": "mesh3d"
                      }
                    ],
                    "parcoords": [
                      {
                        "line": {
                          "colorbar": {
                            "outlinewidth": 0,
                            "ticks": ""
                          }
                        },
                        "type": "parcoords"
                      }
                    ],
                    "pie": [
                      {
                        "automargin": true,
                        "type": "pie"
                      }
                    ],
                    "scatter": [
                      {
                        "fillpattern": {
                          "fillmode": "overlay",
                          "size": 10,
                          "solidity": 0.2
                        },
                        "type": "scatter"
                      }
                    ],
                    "scatter3d": [
                      {
                        "line": {
                          "colorbar": {
                            "outlinewidth": 0,
                            "ticks": ""
                          }
                        },
                        "marker": {
                          "colorbar": {
                            "outlinewidth": 0,
                            "ticks": ""
                          }
                        },
                        "type": "scatter3d"
                      }
                    ],
                    "scattercarpet": [
                      {
                        "marker": {
                          "colorbar": {
                            "outlinewidth": 0,
                            "ticks": ""
                          }
                        },
                        "type": "scattercarpet"
                      }
                    ],
                    "scattergeo": [
                      {
                        "marker": {
                          "colorbar": {
                            "outlinewidth": 0,
                            "ticks": ""
                          }
                        },
                        "type": "scattergeo"
                      }
                    ],
                    "scattergl": [
                      {
                        "marker": {
                          "colorbar": {
                            "outlinewidth": 0,
                            "ticks": ""
                          }
                        },
                        "type": "scattergl"
                      }
                    ],
                    "scattermapbox": [
                      {
                        "marker": {
                          "colorbar": {
                            "outlinewidth": 0,
                            "ticks": ""
                          }
                        },
                        "type": "scattermapbox"
                      }
                    ],
                    "scatterpolar": [
                      {
                        "marker": {
                          "colorbar": {
                            "outlinewidth": 0,
                            "ticks": ""
                          }
                        },
                        "type": "scatterpolar"
                      }
                    ],
                    "scatterpolargl": [
                      {
                        "marker": {
                          "colorbar": {
                            "outlinewidth": 0,
                            "ticks": ""
                          }
                        },
                        "type": "scatterpolargl"
                      }
                    ],
                    "scatterternary": [
                      {
                        "marker": {
                          "colorbar": {
                            "outlinewidth": 0,
                            "ticks": ""
                          }
                        },
                        "type": "scatterternary"
                      }
                    ],
                    "surface": [
                      {
                        "colorbar": {
                          "outlinewidth": 0,
                          "ticks": ""
                        },
                        "colorscale": [
                          [
                            0,
                            "#0d0887"
                          ],
                          [
                            0.1111111111111111,
                            "#46039f"
                          ],
                          [
                            0.2222222222222222,
                            "#7201a8"
                          ],
                          [
                            0.3333333333333333,
                            "#9c179e"
                          ],
                          [
                            0.4444444444444444,
                            "#bd3786"
                          ],
                          [
                            0.5555555555555556,
                            "#d8576b"
                          ],
                          [
                            0.6666666666666666,
                            "#ed7953"
                          ],
                          [
                            0.7777777777777778,
                            "#fb9f3a"
                          ],
                          [
                            0.8888888888888888,
                            "#fdca26"
                          ],
                          [
                            1,
                            "#f0f921"
                          ]
                        ],
                        "type": "surface"
                      }
                    ],
                    "table": [
                      {
                        "cells": {
                          "fill": {
                            "color": "#EBF0F8"
                          },
                          "line": {
                            "color": "white"
                          }
                        },
                        "header": {
                          "fill": {
                            "color": "#C8D4E3"
                          },
                          "line": {
                            "color": "white"
                          }
                        },
                        "type": "table"
                      }
                    ]
                  },
                  "layout": {
                    "annotationdefaults": {
                      "arrowcolor": "#2a3f5f",
                      "arrowhead": 0,
                      "arrowwidth": 1
                    },
                    "autotypenumbers": "strict",
                    "coloraxis": {
                      "colorbar": {
                        "outlinewidth": 0,
                        "ticks": ""
                      }
                    },
                    "colorscale": {
                      "diverging": [
                        [
                          0,
                          "#8e0152"
                        ],
                        [
                          0.1,
                          "#c51b7d"
                        ],
                        [
                          0.2,
                          "#de77ae"
                        ],
                        [
                          0.3,
                          "#f1b6da"
                        ],
                        [
                          0.4,
                          "#fde0ef"
                        ],
                        [
                          0.5,
                          "#f7f7f7"
                        ],
                        [
                          0.6,
                          "#e6f5d0"
                        ],
                        [
                          0.7,
                          "#b8e186"
                        ],
                        [
                          0.8,
                          "#7fbc41"
                        ],
                        [
                          0.9,
                          "#4d9221"
                        ],
                        [
                          1,
                          "#276419"
                        ]
                      ],
                      "sequential": [
                        [
                          0,
                          "#0d0887"
                        ],
                        [
                          0.1111111111111111,
                          "#46039f"
                        ],
                        [
                          0.2222222222222222,
                          "#7201a8"
                        ],
                        [
                          0.3333333333333333,
                          "#9c179e"
                        ],
                        [
                          0.4444444444444444,
                          "#bd3786"
                        ],
                        [
                          0.5555555555555556,
                          "#d8576b"
                        ],
                        [
                          0.6666666666666666,
                          "#ed7953"
                        ],
                        [
                          0.7777777777777778,
                          "#fb9f3a"
                        ],
                        [
                          0.8888888888888888,
                          "#fdca26"
                        ],
                        [
                          1,
                          "#f0f921"
                        ]
                      ],
                      "sequentialminus": [
                        [
                          0,
                          "#0d0887"
                        ],
                        [
                          0.1111111111111111,
                          "#46039f"
                        ],
                        [
                          0.2222222222222222,
                          "#7201a8"
                        ],
                        [
                          0.3333333333333333,
                          "#9c179e"
                        ],
                        [
                          0.4444444444444444,
                          "#bd3786"
                        ],
                        [
                          0.5555555555555556,
                          "#d8576b"
                        ],
                        [
                          0.6666666666666666,
                          "#ed7953"
                        ],
                        [
                          0.7777777777777778,
                          "#fb9f3a"
                        ],
                        [
                          0.8888888888888888,
                          "#fdca26"
                        ],
                        [
                          1,
                          "#f0f921"
                        ]
                      ]
                    },
                    "colorway": [
                      "#636efa",
                      "#EF553B",
                      "#00cc96",
                      "#ab63fa",
                      "#FFA15A",
                      "#19d3f3",
                      "#FF6692",
                      "#B6E880",
                      "#FF97FF",
                      "#FECB52"
                    ],
                    "font": {
                      "color": "#2a3f5f"
                    },
                    "geo": {
                      "bgcolor": "white",
                      "lakecolor": "white",
                      "landcolor": "#E5ECF6",
                      "showlakes": true,
                      "showland": true,
                      "subunitcolor": "white"
                    },
                    "hoverlabel": {
                      "align": "left"
                    },
                    "hovermode": "closest",
                    "mapbox": {
                      "style": "light"
                    },
                    "paper_bgcolor": "white",
                    "plot_bgcolor": "#E5ECF6",
                    "polar": {
                      "angularaxis": {
                        "gridcolor": "white",
                        "linecolor": "white",
                        "ticks": ""
                      },
                      "bgcolor": "#E5ECF6",
                      "radialaxis": {
                        "gridcolor": "white",
                        "linecolor": "white",
                        "ticks": ""
                      }
                    },
                    "scene": {
                      "xaxis": {
                        "backgroundcolor": "#E5ECF6",
                        "gridcolor": "white",
                        "gridwidth": 2,
                        "linecolor": "white",
                        "showbackground": true,
                        "ticks": "",
                        "zerolinecolor": "white"
                      },
                      "yaxis": {
                        "backgroundcolor": "#E5ECF6",
                        "gridcolor": "white",
                        "gridwidth": 2,
                        "linecolor": "white",
                        "showbackground": true,
                        "ticks": "",
                        "zerolinecolor": "white"
                      },
                      "zaxis": {
                        "backgroundcolor": "#E5ECF6",
                        "gridcolor": "white",
                        "gridwidth": 2,
                        "linecolor": "white",
                        "showbackground": true,
                        "ticks": "",
                        "zerolinecolor": "white"
                      }
                    },
                    "shapedefaults": {
                      "line": {
                        "color": "#2a3f5f"
                      }
                    },
                    "ternary": {
                      "aaxis": {
                        "gridcolor": "white",
                        "linecolor": "white",
                        "ticks": ""
                      },
                      "baxis": {
                        "gridcolor": "white",
                        "linecolor": "white",
                        "ticks": ""
                      },
                      "bgcolor": "#E5ECF6",
                      "caxis": {
                        "gridcolor": "white",
                        "linecolor": "white",
                        "ticks": ""
                      }
                    },
                    "title": {
                      "x": 0.05
                    },
                    "xaxis": {
                      "automargin": true,
                      "gridcolor": "white",
                      "linecolor": "white",
                      "ticks": "",
                      "title": {
                        "standoff": 15
                      },
                      "zerolinecolor": "white",
                      "zerolinewidth": 2
                    },
                    "yaxis": {
                      "automargin": true,
                      "gridcolor": "white",
                      "linecolor": "white",
                      "ticks": "",
                      "title": {
                        "standoff": 15
                      },
                      "zerolinecolor": "white",
                      "zerolinewidth": 2
                    }
                  }
                }
              }
            },
            "image/png": "[encoded data removed]",
            "text/html": [
              "<div>                            <div id=\"08ee26ab-6bab-49c1-8277-80778781eb75\" class=\"plotly-graph-div\" style=\"height:525px; width:100%;\"></div>            <script type=\"text/javascript\">                require([\"plotly\"], function(Plotly) {                    window.PLOTLYENV=window.PLOTLYENV || {};                                    if (document.getElementById(\"08ee26ab-6bab-49c1-8277-80778781eb75\")) {                    Plotly.newPlot(                        \"08ee26ab-6bab-49c1-8277-80778781eb75\",                        [{\"arrangement\":\"snap\",\"link\":{\"source\":[0,0,1,2,5,4,3,5],\"target\":[5,3,4,3,0,2,2,3],\"value\":[1,2,1,1,1,1,1,2]},\"node\":{\"label\":[\"A\",\"B\",\"C\",\"D\",\"E\",\"F\"],\"pad\":10,\"x\":[0.2,0.1,0.5,0.7,0.3,0.5],\"y\":[0.7,0.5,0.2,0.4,0.2,0.3]},\"type\":\"sankey\"}],                        {\"template\":{\"data\":{\"histogram2dcontour\":[{\"type\":\"histogram2dcontour\",\"colorbar\":{\"outlinewidth\":0,\"ticks\":\"\"},\"colorscale\":[[0.0,\"#0d0887\"],[0.1111111111111111,\"#46039f\"],[0.2222222222222222,\"#7201a8\"],[0.3333333333333333,\"#9c179e\"],[0.4444444444444444,\"#bd3786\"],[0.5555555555555556,\"#d8576b\"],[0.6666666666666666,\"#ed7953\"],[0.7777777777777778,\"#fb9f3a\"],[0.8888888888888888,\"#fdca26\"],[1.0,\"#f0f921\"]]}],\"choropleth\":[{\"type\":\"choropleth\",\"colorbar\":{\"outlinewidth\":0,\"ticks\":\"\"}}],\"histogram2d\":[{\"type\":\"histogram2d\",\"colorbar\":{\"outlinewidth\":0,\"ticks\":\"\"},\"colorscale\":[[0.0,\"#0d0887\"],[0.1111111111111111,\"#46039f\"],[0.2222222222222222,\"#7201a8\"],[0.3333333333333333,\"#9c179e\"],[0.4444444444444444,\"#bd3786\"],[0.5555555555555556,\"#d8576b\"],[0.6666666666666666,\"#ed7953\"],[0.7777777777777778,\"#fb9f3a\"],[0.8888888888888888,\"#fdca26\"],[1.0,\"#f0f921\"]]}],\"heatmap\":[{\"type\":\"heatmap\",\"colorbar\":{\"outlinewidth\":0,\"ticks\":\"\"},\"colorscale\":[[0.0,\"#0d0887\"],[0.1111111111111111,\"#46039f\"],[0.2222222222222222,\"#7201a8\"],[0.3333333333333333,\"#9c179e\"],[0.4444444444444444,\"#bd3786\"],[0.5555555555555556,\"#d8576b\"],[0.6666666666666666,\"#ed7953\"],[0.7777777777777778,\"#fb9f3a\"],[0.8888888888888888,\"#fdca26\"],[1.0,\"#f0f921\"]]}],\"heatmapgl\":[{\"type\":\"heatmapgl\",\"colorbar\":{\"outlinewidth\":0,\"ticks\":\"\"},\"colorscale\":[[0.0,\"#0d0887\"],[0.1111111111111111,\"#46039f\"],[0.2222222222222222,\"#7201a8\"],[0.3333333333333333,\"#9c179e\"],[0.4444444444444444,\"#bd3786\"],[0.5555555555555556,\"#d8576b\"],[0.6666666666666666,\"#ed7953\"],[0.7777777777777778,\"#fb9f3a\"],[0.8888888888888888,\"#fdca26\"],[1.0,\"#f0f921\"]]}],\"contourcarpet\":[{\"type\":\"contourcarpet\",\"colorbar\":{\"outlinewidth\":0,\"ticks\":\"\"}}],\"contour\":[{\"type\":\"contour\",\"colorbar\":{\"outlinewidth\":0,\"ticks\":\"\"},\"colorscale\":[[0.0,\"#0d0887\"],[0.1111111111111111,\"#46039f\"],[0.2222222222222222,\"#7201a8\"],[0.3333333333333333,\"#9c179e\"],[0.4444444444444444,\"#bd3786\"],[0.5555555555555556,\"#d8576b\"],[0.6666666666666666,\"#ed7953\"],[0.7777777777777778,\"#fb9f3a\"],[0.8888888888888888,\"#fdca26\"],[1.0,\"#f0f921\"]]}],\"surface\":[{\"type\":\"surface\",\"colorbar\":{\"outlinewidth\":0,\"ticks\":\"\"},\"colorscale\":[[0.0,\"#0d0887\"],[0.1111111111111111,\"#46039f\"],[0.2222222222222222,\"#7201a8\"],[0.3333333333333333,\"#9c179e\"],[0.4444444444444444,\"#bd3786\"],[0.5555555555555556,\"#d8576b\"],[0.6666666666666666,\"#ed7953\"],[0.7777777777777778,\"#fb9f3a\"],[0.8888888888888888,\"#fdca26\"],[1.0,\"#f0f921\"]]}],\"mesh3d\":[{\"type\":\"mesh3d\",\"colorbar\":{\"outlinewidth\":0,\"ticks\":\"\"}}],\"scatter\":[{\"fillpattern\":{\"fillmode\":\"overlay\",\"size\":10,\"solidity\":0.2},\"type\":\"scatter\"}],\"parcoords\":[{\"type\":\"parcoords\",\"line\":{\"colorbar\":{\"outlinewidth\":0,\"ticks\":\"\"}}}],\"scatterpolargl\":[{\"type\":\"scatterpolargl\",\"marker\":{\"colorbar\":{\"outlinewidth\":0,\"ticks\":\"\"}}}],\"bar\":[{\"error_x\":{\"color\":\"#2a3f5f\"},\"error_y\":{\"color\":\"#2a3f5f\"},\"marker\":{\"line\":{\"color\":\"#E5ECF6\",\"width\":0.5},\"pattern\":{\"fillmode\":\"overlay\",\"size\":10,\"solidity\":0.2}},\"type\":\"bar\"}],\"scattergeo\":[{\"type\":\"scattergeo\",\"marker\":{\"colorbar\":{\"outlinewidth\":0,\"ticks\":\"\"}}}],\"scatterpolar\":[{\"type\":\"scatterpolar\",\"marker\":{\"colorbar\":{\"outlinewidth\":0,\"ticks\":\"\"}}}],\"histogram\":[{\"marker\":{\"pattern\":{\"fillmode\":\"overlay\",\"size\":10,\"solidity\":0.2}},\"type\":\"histogram\"}],\"scattergl\":[{\"type\":\"scattergl\",\"marker\":{\"colorbar\":{\"outlinewidth\":0,\"ticks\":\"\"}}}],\"scatter3d\":[{\"type\":\"scatter3d\",\"line\":{\"colorbar\":{\"outlinewidth\":0,\"ticks\":\"\"}},\"marker\":{\"colorbar\":{\"outlinewidth\":0,\"ticks\":\"\"}}}],\"scattermapbox\":[{\"type\":\"scattermapbox\",\"marker\":{\"colorbar\":{\"outlinewidth\":0,\"ticks\":\"\"}}}],\"scatterternary\":[{\"type\":\"scatterternary\",\"marker\":{\"colorbar\":{\"outlinewidth\":0,\"ticks\":\"\"}}}],\"scattercarpet\":[{\"type\":\"scattercarpet\",\"marker\":{\"colorbar\":{\"outlinewidth\":0,\"ticks\":\"\"}}}],\"carpet\":[{\"aaxis\":{\"endlinecolor\":\"#2a3f5f\",\"gridcolor\":\"white\",\"linecolor\":\"white\",\"minorgridcolor\":\"white\",\"startlinecolor\":\"#2a3f5f\"},\"baxis\":{\"endlinecolor\":\"#2a3f5f\",\"gridcolor\":\"white\",\"linecolor\":\"white\",\"minorgridcolor\":\"white\",\"startlinecolor\":\"#2a3f5f\"},\"type\":\"carpet\"}],\"table\":[{\"cells\":{\"fill\":{\"color\":\"#EBF0F8\"},\"line\":{\"color\":\"white\"}},\"header\":{\"fill\":{\"color\":\"#C8D4E3\"},\"line\":{\"color\":\"white\"}},\"type\":\"table\"}],\"barpolar\":[{\"marker\":{\"line\":{\"color\":\"#E5ECF6\",\"width\":0.5},\"pattern\":{\"fillmode\":\"overlay\",\"size\":10,\"solidity\":0.2}},\"type\":\"barpolar\"}],\"pie\":[{\"automargin\":true,\"type\":\"pie\"}]},\"layout\":{\"autotypenumbers\":\"strict\",\"colorway\":[\"#636efa\",\"#EF553B\",\"#00cc96\",\"#ab63fa\",\"#FFA15A\",\"#19d3f3\",\"#FF6692\",\"#B6E880\",\"#FF97FF\",\"#FECB52\"],\"font\":{\"color\":\"#2a3f5f\"},\"hovermode\":\"closest\",\"hoverlabel\":{\"align\":\"left\"},\"paper_bgcolor\":\"white\",\"plot_bgcolor\":\"#E5ECF6\",\"polar\":{\"bgcolor\":\"#E5ECF6\",\"angularaxis\":{\"gridcolor\":\"white\",\"linecolor\":\"white\",\"ticks\":\"\"},\"radialaxis\":{\"gridcolor\":\"white\",\"linecolor\":\"white\",\"ticks\":\"\"}},\"ternary\":{\"bgcolor\":\"#E5ECF6\",\"aaxis\":{\"gridcolor\":\"white\",\"linecolor\":\"white\",\"ticks\":\"\"},\"baxis\":{\"gridcolor\":\"white\",\"linecolor\":\"white\",\"ticks\":\"\"},\"caxis\":{\"gridcolor\":\"white\",\"linecolor\":\"white\",\"ticks\":\"\"}},\"coloraxis\":{\"colorbar\":{\"outlinewidth\":0,\"ticks\":\"\"}},\"colorscale\":{\"sequential\":[[0.0,\"#0d0887\"],[0.1111111111111111,\"#46039f\"],[0.2222222222222222,\"#7201a8\"],[0.3333333333333333,\"#9c179e\"],[0.4444444444444444,\"#bd3786\"],[0.5555555555555556,\"#d8576b\"],[0.6666666666666666,\"#ed7953\"],[0.7777777777777778,\"#fb9f3a\"],[0.8888888888888888,\"#fdca26\"],[1.0,\"#f0f921\"]],\"sequentialminus\":[[0.0,\"#0d0887\"],[0.1111111111111111,\"#46039f\"],[0.2222222222222222,\"#7201a8\"],[0.3333333333333333,\"#9c179e\"],[0.4444444444444444,\"#bd3786\"],[0.5555555555555556,\"#d8576b\"],[0.6666666666666666,\"#ed7953\"],[0.7777777777777778,\"#fb9f3a\"],[0.8888888888888888,\"#fdca26\"],[1.0,\"#f0f921\"]],\"diverging\":[[0,\"#8e0152\"],[0.1,\"#c51b7d\"],[0.2,\"#de77ae\"],[0.3,\"#f1b6da\"],[0.4,\"#fde0ef\"],[0.5,\"#f7f7f7\"],[0.6,\"#e6f5d0\"],[0.7,\"#b8e186\"],[0.8,\"#7fbc41\"],[0.9,\"#4d9221\"],[1,\"#276419\"]]},\"xaxis\":{\"gridcolor\":\"white\",\"linecolor\":\"white\",\"ticks\":\"\",\"title\":{\"standoff\":15},\"zerolinecolor\":\"white\",\"automargin\":true,\"zerolinewidth\":2},\"yaxis\":{\"gridcolor\":\"white\",\"linecolor\":\"white\",\"ticks\":\"\",\"title\":{\"standoff\":15},\"zerolinecolor\":\"white\",\"automargin\":true,\"zerolinewidth\":2},\"scene\":{\"xaxis\":{\"backgroundcolor\":\"#E5ECF6\",\"gridcolor\":\"white\",\"linecolor\":\"white\",\"showbackground\":true,\"ticks\":\"\",\"zerolinecolor\":\"white\",\"gridwidth\":2},\"yaxis\":{\"backgroundcolor\":\"#E5ECF6\",\"gridcolor\":\"white\",\"linecolor\":\"white\",\"showbackground\":true,\"ticks\":\"\",\"zerolinecolor\":\"white\",\"gridwidth\":2},\"zaxis\":{\"backgroundcolor\":\"#E5ECF6\",\"gridcolor\":\"white\",\"linecolor\":\"white\",\"showbackground\":true,\"ticks\":\"\",\"zerolinecolor\":\"white\",\"gridwidth\":2}},\"shapedefaults\":{\"line\":{\"color\":\"#2a3f5f\"}},\"annotationdefaults\":{\"arrowcolor\":\"#2a3f5f\",\"arrowhead\":0,\"arrowwidth\":1},\"geo\":{\"bgcolor\":\"white\",\"landcolor\":\"#E5ECF6\",\"subunitcolor\":\"white\",\"showland\":true,\"showlakes\":true,\"lakecolor\":\"white\"},\"title\":{\"x\":0.05},\"mapbox\":{\"style\":\"light\"}}}},                        {\"responsive\": true}                    ).then(function(){\n",
              "                            \n",
              "var gd = document.getElementById('08ee26ab-6bab-49c1-8277-80778781eb75');\n",
              "var x = new MutationObserver(function (mutations, observer) {{\n",
              "        var display = window.getComputedStyle(gd).display;\n",
              "        if (!display || display === 'none') {{\n",
              "            console.log([gd, 'removed!']);\n",
              "            Plotly.purge(gd);\n",
              "            observer.disconnect();\n",
              "        }}\n",
              "}});\n",
              "\n",
              "// Listen for the removal of the full notebook cells\n",
              "var notebookContainer = gd.closest('#notebook-container');\n",
              "if (notebookContainer) {{\n",
              "    x.observe(notebookContainer, {childList: true});\n",
              "}}\n",
              "\n",
              "// Listen for the clearing of the current output cell\n",
              "var outputEl = gd.closest('.output');\n",
              "if (outputEl) {{\n",
              "    x.observe(outputEl, {childList: true});\n",
              "}}\n",
              "\n",
              "                        })                };                });            </script>        </div>"
            ]
          },
          "metadata": {},
          "output_type": "display_data"
        }
      ],
      "source": [
        "fig = go.Figure(go.Sankey(\n",
        "    arrangement = \"snap\",\n",
        "    node = {\n",
        "        \"label\": [\"A\", \"B\", \"C\", \"D\", \"E\", \"F\"],\n",
        "        \"x\": [0.2, 0.1, 0.5, 0.7, 0.3, 0.5],\n",
        "        \"y\": [0.7, 0.5, 0.2, 0.4, 0.2, 0.3],\n",
        "        'pad':10},  # 10 Pixels\n",
        "    link = {\n",
        "        \"source\": [0, 0, 1, 2, 5, 4, 3, 5],\n",
        "        \"target\": [5, 3, 4, 3, 0, 2, 2, 3],\n",
        "        \"value\": [1, 2, 1, 1, 1, 1, 1, 2]}))\n",
        "\n",
        "fig.show()"
      ]
    },
    {
      "cell_type": "code",
      "execution_count": null,
      "id": "73f58286-312a-4424-a7b4-738a12b9df2d",
      "metadata": {
        "id": "73f58286-312a-4424-a7b4-738a12b9df2d"
      },
      "outputs": [],
      "source": []
    }
  ],
  "metadata": {
    "kernelspec": {
      "display_name": "Python 3 (ipykernel)",
      "language": "python",
      "name": "python3"
    },
    "language_info": {
      "codemirror_mode": {
        "name": "ipython",
        "version": 3
      },
      "file_extension": ".py",
      "mimetype": "text/x-python",
      "name": "python",
      "nbconvert_exporter": "python",
      "pygments_lexer": "ipython3",
      "version": "3.12.0"
    },
    "colab": {
      "provenance": [],
      "include_colab_link": true
    }
  },
  "nbformat": 4,
  "nbformat_minor": 5
}